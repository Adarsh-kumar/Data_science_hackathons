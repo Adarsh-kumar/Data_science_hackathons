{
 "cells": [
  {
   "cell_type": "code",
   "execution_count": 1,
   "metadata": {},
   "outputs": [],
   "source": [
    "%matplotlib inline"
   ]
  },
  {
   "cell_type": "markdown",
   "metadata": {},
   "source": [
    "\n",
    "# Comparison of ensembling classifiers internally using sampling\n",
    "\n",
    "\n",
    "Ensembling classifiers have shown to improve classification performance compare\n",
    "to single learner. However, they will be affected by class imbalance. This\n",
    "example shows the benefit of balancing the training set before to learn\n",
    "learners. We are making the comparison with non-balanced ensemble methods.\n",
    "\n",
    "We make a comparison using the balanced accuracy and geometric mean which are\n",
    "metrics widely used in the literature to evaluate models learned on imbalanced\n",
    "set.\n",
    "\n",
    "\n"
   ]
  },
  {
   "cell_type": "code",
   "execution_count": null,
   "metadata": {},
   "outputs": [],
   "source": [
    "# Authors: Guillaume Lemaitre <g.lemaitre58@gmail.com>\n",
    "# License: MIT\n",
    "\n",
    "import itertools\n",
    "\n",
    "import matplotlib.pyplot as plt\n",
    "import numpy as np\n",
    "\n",
    "from sklearn.model_selection import train_test_split\n",
    "from sklearn.ensemble import BaggingClassifier\n",
    "from sklearn.ensemble import RandomForestClassifier\n",
    "from sklearn.ensemble import AdaBoostClassifier\n",
    "from sklearn.tree import DecisionTreeClassifier\n",
    "from sklearn.metrics import confusion_matrix\n",
    "from sklearn.metrics import balanced_accuracy_score\n",
    "\n",
    "from imblearn.datasets import fetch_datasets\n",
    "from imblearn.ensemble import BalancedBaggingClassifier\n",
    "from imblearn.ensemble import BalancedRandomForestClassifier\n",
    "from imblearn.ensemble import EasyEnsembleClassifier\n",
    "from imblearn.ensemble import RUSBoostClassifier\n",
    "\n",
    "from imblearn.metrics import geometric_mean_score\n",
    "\n",
    "\n",
    "def plot_confusion_matrix(cm, classes, ax,\n",
    "                          normalize=False,\n",
    "                          title='Confusion matrix',\n",
    "                          cmap=plt.cm.Blues):\n",
    "    \"\"\"\n",
    "    This function prints and plots the confusion matrix.\n",
    "    Normalization can be applied by setting `normalize=True`.\n",
    "    \"\"\"\n",
    "    print(cm)\n",
    "    print('')\n",
    "\n",
    "    ax.imshow(cm, interpolation='nearest', cmap=cmap)\n",
    "    ax.set_title(title)\n",
    "    tick_marks = np.arange(len(classes))\n",
    "    plt.xticks(tick_marks, classes, rotation=45)\n",
    "    plt.sca(ax)\n",
    "    plt.yticks(tick_marks, classes)\n",
    "\n",
    "    fmt = '.2f' if normalize else 'd'\n",
    "    thresh = cm.max() / 2.\n",
    "    for i, j in itertools.product(range(cm.shape[0]), range(cm.shape[1])):\n",
    "        ax.text(j, i, format(cm[i, j], fmt),\n",
    "                horizontalalignment=\"center\",\n",
    "                color=\"white\" if cm[i, j] > thresh else \"black\")\n",
    "\n",
    "    ax.set_ylabel('True label')\n",
    "    ax.set_xlabel('Predicted label')"
   ]
  },
  {
   "cell_type": "markdown",
   "metadata": {},
   "source": [
    "Load an imbalanced dataset\n",
    "##############################################################################\n",
    " We will load the UCI SatImage dataset which has an imbalanced ratio of 9.3:1\n",
    " (number of majority sample for a minority sample). The data are then split\n",
    " into training and testing.\n",
    "\n"
   ]
  },
  {
   "cell_type": "code",
   "execution_count": null,
   "metadata": {},
   "outputs": [],
   "source": [
    "satimage = fetch_datasets()['satimage']\n",
    "X, y = satimage.data, satimage.target\n",
    "X_train, X_test, y_train, y_test = train_test_split(X, y, stratify=y,\n",
    "                                                    random_state=0)"
   ]
  },
  {
   "cell_type": "markdown",
   "metadata": {},
   "source": [
    "Classification using a single decision tree\n",
    "##############################################################################\n",
    " We train a decision tree classifier which will be used as a baseline for the\n",
    " rest of this example.\n",
    "\n"
   ]
  },
  {
   "cell_type": "markdown",
   "metadata": {},
   "source": [
    "The results are reported in terms of balanced accuracy and geometric mean\n",
    "which are metrics widely used in the literature to validate model trained on\n",
    "imbalanced set.\n",
    "\n"
   ]
  },
  {
   "cell_type": "code",
   "execution_count": null,
   "metadata": {},
   "outputs": [],
   "source": [
    "tree = DecisionTreeClassifier()\n",
    "tree.fit(X_train, y_train)\n",
    "y_pred_tree = tree.predict(X_test)\n",
    "print('Decision tree classifier performance:')\n",
    "print('Balanced accuracy: {:.2f} - Geometric mean {:.2f}'\n",
    "      .format(balanced_accuracy_score(y_test, y_pred_tree),\n",
    "              geometric_mean_score(y_test, y_pred_tree)))\n",
    "cm_tree = confusion_matrix(y_test, y_pred_tree)\n",
    "fig, ax = plt.subplots()\n",
    "plot_confusion_matrix(cm_tree, classes=np.unique(satimage.target), ax=ax,\n",
    "                      title='Decision tree')"
   ]
  },
  {
   "cell_type": "markdown",
   "metadata": {},
   "source": [
    "Classification using bagging classifier with and without sampling\n",
    "##############################################################################\n",
    " Instead of using a single tree, we will check if an ensemble of decsion tree\n",
    " can actually alleviate the issue induced by the class imbalancing. First, we\n",
    " will use a bagging classifier and its counter part which internally uses a\n",
    " random under-sampling to balanced each boostrap sample.\n",
    "\n"
   ]
  },
  {
   "cell_type": "code",
   "execution_count": null,
   "metadata": {},
   "outputs": [],
   "source": [
    "bagging = BaggingClassifier(n_estimators=50, random_state=0, n_jobs=-1)\n",
    "balanced_bagging = BalancedBaggingClassifier(n_estimators=50, random_state=0,\n",
    "                                             n_jobs=-1)\n",
    "\n",
    "bagging.fit(X_train, y_train)\n",
    "balanced_bagging.fit(X_train, y_train)\n",
    "\n",
    "y_pred_bc = bagging.predict(X_test)\n",
    "y_pred_bbc = balanced_bagging.predict(X_test)"
   ]
  },
  {
   "cell_type": "markdown",
   "metadata": {},
   "source": [
    "Balancing each bootstrap sample allows to increase significantly the balanced\n",
    "accuracy and the geometric mean.\n",
    "\n"
   ]
  },
  {
   "cell_type": "code",
   "execution_count": null,
   "metadata": {},
   "outputs": [],
   "source": [
    "print('Bagging classifier performance:')\n",
    "print('Balanced accuracy: {:.2f} - Geometric mean {:.2f}'\n",
    "      .format(balanced_accuracy_score(y_test, y_pred_bc),\n",
    "              geometric_mean_score(y_test, y_pred_bc)))\n",
    "cm_bagging = confusion_matrix(y_test, y_pred_bc)\n",
    "fig, ax = plt.subplots(ncols=2)\n",
    "plot_confusion_matrix(cm_bagging, classes=np.unique(satimage.target), ax=ax[0],\n",
    "                      title='Bagging')\n",
    "\n",
    "print('Balanced Bagging classifier performance:')\n",
    "print('Balanced accuracy: {:.2f} - Geometric mean {:.2f}'\n",
    "      .format(balanced_accuracy_score(y_test, y_pred_bbc),\n",
    "              geometric_mean_score(y_test, y_pred_bbc)))\n",
    "cm_balanced_bagging = confusion_matrix(y_test, y_pred_bbc)\n",
    "plot_confusion_matrix(cm_balanced_bagging, classes=np.unique(satimage.target),\n",
    "                      ax=ax[1], title='Balanced bagging')"
   ]
  },
  {
   "cell_type": "markdown",
   "metadata": {},
   "source": [
    "Classification using random forest classifier with and without sampling\n",
    "##############################################################################\n",
    " Random forest is another popular ensemble method and it is usually\n",
    " outperforming bagging. Here, we used a vanilla random forest and its balanced\n",
    " counterpart in which each bootstrap sample is balanced.\n",
    "\n"
   ]
  },
  {
   "cell_type": "code",
   "execution_count": null,
   "metadata": {},
   "outputs": [],
   "source": [
    "rf = RandomForestClassifier(n_estimators=50, random_state=0, n_jobs=-1)\n",
    "brf = BalancedRandomForestClassifier(n_estimators=50, random_state=0,\n",
    "                                     n_jobs=-1)\n",
    "\n",
    "rf.fit(X_train, y_train)\n",
    "brf.fit(X_train, y_train)\n",
    "\n",
    "y_pred_rf = rf.predict(X_test)\n",
    "y_pred_brf = brf.predict(X_test)\n",
    "\n",
    "# Similarly to the previous experiment, the balanced classifier outperform the\n",
    "# classifier which learn from imbalanced bootstrap samples. In addition, random\n",
    "# forest outsperforms the bagging classifier.\n",
    "\n",
    "print('Random Forest classifier performance:')\n",
    "print('Balanced accuracy: {:.2f} - Geometric mean {:.2f}'\n",
    "      .format(balanced_accuracy_score(y_test, y_pred_rf),\n",
    "              geometric_mean_score(y_test, y_pred_rf)))\n",
    "cm_rf = confusion_matrix(y_test, y_pred_rf)\n",
    "fig, ax = plt.subplots(ncols=2)\n",
    "plot_confusion_matrix(cm_rf, classes=np.unique(satimage.target), ax=ax[0],\n",
    "                      title='Random forest')\n",
    "\n",
    "print('Balanced Random Forest classifier performance:')\n",
    "print('Balanced accuracy: {:.2f} - Geometric mean {:.2f}'\n",
    "      .format(balanced_accuracy_score(y_test, y_pred_brf),\n",
    "              geometric_mean_score(y_test, y_pred_brf)))\n",
    "cm_brf = confusion_matrix(y_test, y_pred_brf)\n",
    "plot_confusion_matrix(cm_brf, classes=np.unique(satimage.target), ax=ax[1],\n",
    "                      title='Balanced random forest')"
   ]
  },
  {
   "cell_type": "markdown",
   "metadata": {},
   "source": [
    "Boosting classifier\n",
    "##############################################################################\n",
    " In the same manner, easy ensemble classifier is a bag of balanced AdaBoost\n",
    " classifier. However, it will be slower to train than random forest and will\n",
    " achieve worse performance.\n",
    "\n"
   ]
  },
  {
   "cell_type": "code",
   "execution_count": null,
   "metadata": {},
   "outputs": [],
   "source": [
    "base_estimator = AdaBoostClassifier(n_estimators=10)\n",
    "eec = EasyEnsembleClassifier(n_estimators=10,\n",
    "                             base_estimator=base_estimator,\n",
    "                             n_jobs=-1)\n",
    "eec.fit(X_train, y_train)\n",
    "y_pred_eec = eec.predict(X_test)\n",
    "print('Easy ensemble classifier performance:')\n",
    "print('Balanced accuracy: {:.2f} - Geometric mean {:.2f}'\n",
    "      .format(balanced_accuracy_score(y_test, y_pred_eec),\n",
    "              geometric_mean_score(y_test, y_pred_eec)))\n",
    "cm_eec = confusion_matrix(y_test, y_pred_eec)\n",
    "fig, ax = plt.subplots(ncols=2)\n",
    "plot_confusion_matrix(cm_eec, classes=np.unique(satimage.target), ax=ax[0],\n",
    "                      title='Easy ensemble classifier')\n",
    "\n",
    "rusboost = RUSBoostClassifier(n_estimators=10,\n",
    "                              base_estimator=base_estimator)\n",
    "rusboost.fit(X_train, y_train)\n",
    "y_pred_rusboost = rusboost.predict(X_test)\n",
    "print('RUSBoost classifier performance:')\n",
    "print('Balanced accuracy: {:.2f} - Geometric mean {:.2f}'\n",
    "      .format(balanced_accuracy_score(y_test, y_pred_rusboost),\n",
    "              geometric_mean_score(y_test, y_pred_rusboost)))\n",
    "cm_rusboost = confusion_matrix(y_test, y_pred_rusboost)\n",
    "plot_confusion_matrix(cm_rusboost, classes=np.unique(satimage.target),\n",
    "                      ax=ax[1], title='RUSBoost classifier')\n",
    "\n",
    "plt.show()"
   ]
  }
 ],
 "metadata": {
  "kernelspec": {
   "display_name": "Python 2",
   "language": "python",
   "name": "python2"
  },
  "language_info": {
   "codemirror_mode": {
    "name": "ipython",
    "version": 2
   },
   "file_extension": ".py",
   "mimetype": "text/x-python",
   "name": "python",
   "nbconvert_exporter": "python",
   "pygments_lexer": "ipython2",
   "version": "2.7.15"
  }
 },
 "nbformat": 4,
 "nbformat_minor": 1
}
