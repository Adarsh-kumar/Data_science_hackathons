{
 "cells": [
  {
   "cell_type": "code",
   "execution_count": 1,
   "metadata": {
    "collapsed": true
   },
   "outputs": [],
   "source": [
    "# loading libraries\n",
    "import pandas as pd\n",
    "import numpy as np\n",
    "\n",
    "import matplotlib.pyplot as plt\n",
    "import seaborn as sns"
   ]
  },
  {
   "cell_type": "code",
   "execution_count": 2,
   "metadata": {
    "collapsed": true
   },
   "outputs": [],
   "source": [
    "# load the data"
   ]
  },
  {
   "cell_type": "code",
   "execution_count": 3,
   "metadata": {
    "collapsed": true
   },
   "outputs": [],
   "source": [
    "user_train_data=pd.read_csv(\"train/user_data.csv\")\n",
    "problem_train_data=pd.read_csv(\"train/problem_data.csv\")\n",
    "submission_train_data=pd.read_csv(\"train/train_submissions.csv\")"
   ]
  },
  {
   "cell_type": "code",
   "execution_count": 205,
   "metadata": {
    "collapsed": true
   },
   "outputs": [],
   "source": [
    "X_test=pd.read_csv('train/test_submissions_NeDLEvX.csv')"
   ]
  },
  {
   "cell_type": "code",
   "execution_count": 5,
   "metadata": {
    "collapsed": true
   },
   "outputs": [],
   "source": [
    "# Data preparation and dummy variable creation on the basis of tags "
   ]
  },
  {
   "cell_type": "code",
   "execution_count": 7,
   "metadata": {
    "collapsed": true
   },
   "outputs": [],
   "source": [
    "#train data adding tag according to the index of problem id"
   ]
  },
  {
   "cell_type": "code",
   "execution_count": 6,
   "metadata": {
    "collapsed": true
   },
   "outputs": [],
   "source": [
    "submission_train_data['tags']=submission_train_data['problem_id'].map(problem_train_data.set_index('problem_id')['tags'])"
   ]
  },
  {
   "cell_type": "code",
   "execution_count": 8,
   "metadata": {
    "collapsed": true
   },
   "outputs": [],
   "source": [
    "#test data adding tag according to the index of problem id"
   ]
  },
  {
   "cell_type": "code",
   "execution_count": 206,
   "metadata": {
    "collapsed": true
   },
   "outputs": [],
   "source": [
    "X_test['tags']=X_test['problem_id'].map(problem_train_data.set_index('problem_id')['tags'])"
   ]
  },
  {
   "cell_type": "code",
   "execution_count": 10,
   "metadata": {
    "collapsed": true
   },
   "outputs": [],
   "source": [
    "# creating dummy features with unique tag "
   ]
  },
  {
   "cell_type": "code",
   "execution_count": 11,
   "metadata": {
    "collapsed": true
   },
   "outputs": [],
   "source": [
    "tag_features=submission_train_data['tags'].str.split(',' , expand=True ).astype(str)"
   ]
  },
  {
   "cell_type": "code",
   "execution_count": 12,
   "metadata": {
    "collapsed": true
   },
   "outputs": [],
   "source": [
    "unique1=set(tag_features[0])\n",
    "unique2=set(tag_features[1])\n",
    "unique3=set(tag_features[2])\n",
    "unique4=set(tag_features[3])\n",
    "unique5=set(tag_features[4])\n",
    "unique6=set(tag_features[5])"
   ]
  },
  {
   "cell_type": "code",
   "execution_count": 13,
   "metadata": {
    "collapsed": true
   },
   "outputs": [],
   "source": [
    "unique=(unique1|unique2)|(unique3|unique4)|(unique5|unique6)"
   ]
  },
  {
   "cell_type": "code",
   "execution_count": 17,
   "metadata": {
    "collapsed": false
   },
   "outputs": [
    {
     "data": {
      "text/plain": [
       "{'*special',\n",
       " '2-sat',\n",
       " 'None',\n",
       " 'binary search',\n",
       " 'bitmasks',\n",
       " 'brute force',\n",
       " 'chinese remainder theorem',\n",
       " 'combinatorics',\n",
       " 'constructive algorithms',\n",
       " 'data structures',\n",
       " 'dfs and similar',\n",
       " 'divide and conquer',\n",
       " 'dp',\n",
       " 'dsu',\n",
       " 'expression parsing',\n",
       " 'fft',\n",
       " 'flows',\n",
       " 'games',\n",
       " 'geometry',\n",
       " 'graph matchings',\n",
       " 'graphs',\n",
       " 'greedy',\n",
       " 'hashing',\n",
       " 'implementation',\n",
       " 'math',\n",
       " 'matrices',\n",
       " 'meet-in-the-middle',\n",
       " 'nan',\n",
       " 'number theory',\n",
       " 'probabilities',\n",
       " 'schedules',\n",
       " 'shortest paths',\n",
       " 'sortings',\n",
       " 'string suffix structures',\n",
       " 'strings',\n",
       " 'ternary search',\n",
       " 'trees',\n",
       " 'two pointers'}"
      ]
     },
     "execution_count": 17,
     "metadata": {},
     "output_type": "execute_result"
    }
   ],
   "source": [
    "unique"
   ]
  },
  {
   "cell_type": "code",
   "execution_count": 15,
   "metadata": {
    "collapsed": true
   },
   "outputs": [],
   "source": [
    "# 38 unique tags "
   ]
  },
  {
   "cell_type": "code",
   "execution_count": 16,
   "metadata": {
    "collapsed": true
   },
   "outputs": [],
   "source": [
    "# adding dummy features in both train and test data"
   ]
  },
  {
   "cell_type": "code",
   "execution_count": 18,
   "metadata": {
    "collapsed": true
   },
   "outputs": [],
   "source": [
    "submission_train_data=pd.concat([submission_train_data,pd.DataFrame(columns=list(unique))])\n",
    "submission_train_data.fillna(0, inplace=True)"
   ]
  },
  {
   "cell_type": "code",
   "execution_count": 20,
   "metadata": {
    "collapsed": false
   },
   "outputs": [
    {
     "data": {
      "text/plain": [
       "(155295, 42)"
      ]
     },
     "execution_count": 20,
     "metadata": {},
     "output_type": "execute_result"
    }
   ],
   "source": [
    "submission_train_data.shape"
   ]
  },
  {
   "cell_type": "code",
   "execution_count": 207,
   "metadata": {
    "collapsed": true
   },
   "outputs": [],
   "source": [
    "X_test=pd.concat([X_test,pd.DataFrame(columns=list(unique))])\n",
    "X_test.fillna(0, inplace=True)"
   ]
  },
  {
   "cell_type": "code",
   "execution_count": 24,
   "metadata": {
    "collapsed": true
   },
   "outputs": [],
   "source": [
    "submission_train_data['tags'].replace(0,'strings',inplace=True)\n"
   ]
  },
  {
   "cell_type": "code",
   "execution_count": 208,
   "metadata": {
    "collapsed": true
   },
   "outputs": [],
   "source": [
    "X_test['tags'].replace(0,'strings',inplace=True)"
   ]
  },
  {
   "cell_type": "code",
   "execution_count": 22,
   "metadata": {
    "collapsed": true
   },
   "outputs": [],
   "source": [
    "# dummy feature initialization "
   ]
  },
  {
   "cell_type": "code",
   "execution_count": 25,
   "metadata": {
    "collapsed": false
   },
   "outputs": [],
   "source": [
    "for column in list(unique):\n",
    "    for i in (submission_train_data).index:\n",
    "        if column in list((submission_train_data.loc[i,'tags']).split(',')):\n",
    "            #ifor_val = 1\n",
    "            submission_train_data.loc[i,column]=1"
   ]
  },
  {
   "cell_type": "code",
   "execution_count": 26,
   "metadata": {
    "collapsed": true
   },
   "outputs": [],
   "source": [
    "# dummy feature initialization for test data"
   ]
  },
  {
   "cell_type": "code",
   "execution_count": 209,
   "metadata": {
    "collapsed": true
   },
   "outputs": [],
   "source": [
    "for column in list(unique):\n",
    "    for i in (X_test).index:\n",
    "        if column in list((X_test.loc[i,'tags']).split(',')):\n",
    "            #ifor_val = 1\n",
    "            X_test.loc[i,column]=1"
   ]
  },
  {
   "cell_type": "code",
   "execution_count": 30,
   "metadata": {
    "collapsed": false
   },
   "outputs": [
    {
     "data": {
      "text/plain": [
       "['user_id',\n",
       " 'submission_count',\n",
       " 'problem_solved',\n",
       " 'contribution',\n",
       " 'country',\n",
       " 'follower_count',\n",
       " 'last_online_time_seconds',\n",
       " 'max_rating',\n",
       " 'rating',\n",
       " 'rank',\n",
       " 'registration_time_seconds']"
      ]
     },
     "execution_count": 30,
     "metadata": {},
     "output_type": "execute_result"
    }
   ],
   "source": [
    "list(user_train_data)"
   ]
  },
  {
   "cell_type": "code",
   "execution_count": 40,
   "metadata": {
    "collapsed": true
   },
   "outputs": [],
   "source": [
    "# Adding user_features according to the index of user_id"
   ]
  },
  {
   "cell_type": "code",
   "execution_count": 36,
   "metadata": {
    "collapsed": false
   },
   "outputs": [],
   "source": [
    "user_predictors=(user_train_data.columns[user_train_data.columns!='user_id'])"
   ]
  },
  {
   "cell_type": "code",
   "execution_count": 37,
   "metadata": {
    "collapsed": false
   },
   "outputs": [
    {
     "data": {
      "text/plain": [
       "Index([u'submission_count', u'problem_solved', u'contribution', u'country',\n",
       "       u'follower_count', u'last_online_time_seconds', u'max_rating',\n",
       "       u'rating', u'rank', u'registration_time_seconds'],\n",
       "      dtype='object')"
      ]
     },
     "execution_count": 37,
     "metadata": {},
     "output_type": "execute_result"
    }
   ],
   "source": [
    "user_predictors"
   ]
  },
  {
   "cell_type": "code",
   "execution_count": 38,
   "metadata": {
    "collapsed": true
   },
   "outputs": [],
   "source": [
    "for column in user_predictors:\n",
    "    submission_train_data[column]=submission_train_data['user_id'].map(user_train_data.set_index('user_id')[column])"
   ]
  },
  {
   "cell_type": "code",
   "execution_count": 39,
   "metadata": {
    "collapsed": false
   },
   "outputs": [
    {
     "data": {
      "text/html": [
       "<div>\n",
       "<style>\n",
       "    .dataframe thead tr:only-child th {\n",
       "        text-align: right;\n",
       "    }\n",
       "\n",
       "    .dataframe thead th {\n",
       "        text-align: left;\n",
       "    }\n",
       "\n",
       "    .dataframe tbody tr th {\n",
       "        vertical-align: top;\n",
       "    }\n",
       "</style>\n",
       "<table border=\"1\" class=\"dataframe\">\n",
       "  <thead>\n",
       "    <tr style=\"text-align: right;\">\n",
       "      <th></th>\n",
       "      <th>*special</th>\n",
       "      <th>2-sat</th>\n",
       "      <th>None</th>\n",
       "      <th>attempts_range</th>\n",
       "      <th>binary search</th>\n",
       "      <th>bitmasks</th>\n",
       "      <th>brute force</th>\n",
       "      <th>chinese remainder theorem</th>\n",
       "      <th>combinatorics</th>\n",
       "      <th>constructive algorithms</th>\n",
       "      <th>...</th>\n",
       "      <th>submission_count</th>\n",
       "      <th>problem_solved</th>\n",
       "      <th>contribution</th>\n",
       "      <th>country</th>\n",
       "      <th>follower_count</th>\n",
       "      <th>last_online_time_seconds</th>\n",
       "      <th>max_rating</th>\n",
       "      <th>rating</th>\n",
       "      <th>rank</th>\n",
       "      <th>registration_time_seconds</th>\n",
       "    </tr>\n",
       "  </thead>\n",
       "  <tbody>\n",
       "    <tr>\n",
       "      <th>0</th>\n",
       "      <td>0</td>\n",
       "      <td>0</td>\n",
       "      <td>0</td>\n",
       "      <td>1.0</td>\n",
       "      <td>0</td>\n",
       "      <td>0</td>\n",
       "      <td>0</td>\n",
       "      <td>0</td>\n",
       "      <td>0</td>\n",
       "      <td>0</td>\n",
       "      <td>...</td>\n",
       "      <td>53</td>\n",
       "      <td>47</td>\n",
       "      <td>0</td>\n",
       "      <td>Bangladesh</td>\n",
       "      <td>1</td>\n",
       "      <td>1503633778</td>\n",
       "      <td>307.913</td>\n",
       "      <td>206.709</td>\n",
       "      <td>beginner</td>\n",
       "      <td>1432110935</td>\n",
       "    </tr>\n",
       "    <tr>\n",
       "      <th>1</th>\n",
       "      <td>0</td>\n",
       "      <td>0</td>\n",
       "      <td>0</td>\n",
       "      <td>3.0</td>\n",
       "      <td>0</td>\n",
       "      <td>0</td>\n",
       "      <td>1</td>\n",
       "      <td>0</td>\n",
       "      <td>0</td>\n",
       "      <td>0</td>\n",
       "      <td>...</td>\n",
       "      <td>133</td>\n",
       "      <td>118</td>\n",
       "      <td>0</td>\n",
       "      <td>NaN</td>\n",
       "      <td>0</td>\n",
       "      <td>1502200122</td>\n",
       "      <td>324.255</td>\n",
       "      <td>235.378</td>\n",
       "      <td>beginner</td>\n",
       "      <td>1454664414</td>\n",
       "    </tr>\n",
       "    <tr>\n",
       "      <th>2</th>\n",
       "      <td>0</td>\n",
       "      <td>0</td>\n",
       "      <td>0</td>\n",
       "      <td>1.0</td>\n",
       "      <td>0</td>\n",
       "      <td>0</td>\n",
       "      <td>0</td>\n",
       "      <td>0</td>\n",
       "      <td>0</td>\n",
       "      <td>0</td>\n",
       "      <td>...</td>\n",
       "      <td>50</td>\n",
       "      <td>44</td>\n",
       "      <td>0</td>\n",
       "      <td>NaN</td>\n",
       "      <td>7</td>\n",
       "      <td>1504719542</td>\n",
       "      <td>343.177</td>\n",
       "      <td>229.358</td>\n",
       "      <td>beginner</td>\n",
       "      <td>1473490873</td>\n",
       "    </tr>\n",
       "    <tr>\n",
       "      <th>3</th>\n",
       "      <td>0</td>\n",
       "      <td>0</td>\n",
       "      <td>0</td>\n",
       "      <td>1.0</td>\n",
       "      <td>0</td>\n",
       "      <td>0</td>\n",
       "      <td>1</td>\n",
       "      <td>0</td>\n",
       "      <td>0</td>\n",
       "      <td>0</td>\n",
       "      <td>...</td>\n",
       "      <td>271</td>\n",
       "      <td>233</td>\n",
       "      <td>23</td>\n",
       "      <td>Indonesia</td>\n",
       "      <td>40</td>\n",
       "      <td>1505175115</td>\n",
       "      <td>436.927</td>\n",
       "      <td>399.083</td>\n",
       "      <td>intermediate</td>\n",
       "      <td>1447736644</td>\n",
       "    </tr>\n",
       "    <tr>\n",
       "      <th>4</th>\n",
       "      <td>0</td>\n",
       "      <td>0</td>\n",
       "      <td>0</td>\n",
       "      <td>1.0</td>\n",
       "      <td>0</td>\n",
       "      <td>0</td>\n",
       "      <td>0</td>\n",
       "      <td>0</td>\n",
       "      <td>0</td>\n",
       "      <td>0</td>\n",
       "      <td>...</td>\n",
       "      <td>155</td>\n",
       "      <td>135</td>\n",
       "      <td>0</td>\n",
       "      <td>India</td>\n",
       "      <td>80</td>\n",
       "      <td>1505421849</td>\n",
       "      <td>492.546</td>\n",
       "      <td>472.190</td>\n",
       "      <td>advanced</td>\n",
       "      <td>1437724657</td>\n",
       "    </tr>\n",
       "    <tr>\n",
       "      <th>5</th>\n",
       "      <td>0</td>\n",
       "      <td>0</td>\n",
       "      <td>0</td>\n",
       "      <td>1.0</td>\n",
       "      <td>0</td>\n",
       "      <td>0</td>\n",
       "      <td>0</td>\n",
       "      <td>0</td>\n",
       "      <td>0</td>\n",
       "      <td>0</td>\n",
       "      <td>...</td>\n",
       "      <td>173</td>\n",
       "      <td>161</td>\n",
       "      <td>0</td>\n",
       "      <td>NaN</td>\n",
       "      <td>21</td>\n",
       "      <td>1504870431</td>\n",
       "      <td>462.729</td>\n",
       "      <td>462.729</td>\n",
       "      <td>advanced</td>\n",
       "      <td>1480812045</td>\n",
       "    </tr>\n",
       "    <tr>\n",
       "      <th>6</th>\n",
       "      <td>0</td>\n",
       "      <td>0</td>\n",
       "      <td>0</td>\n",
       "      <td>1.0</td>\n",
       "      <td>0</td>\n",
       "      <td>0</td>\n",
       "      <td>0</td>\n",
       "      <td>0</td>\n",
       "      <td>0</td>\n",
       "      <td>0</td>\n",
       "      <td>...</td>\n",
       "      <td>855</td>\n",
       "      <td>811</td>\n",
       "      <td>0</td>\n",
       "      <td>Egypt</td>\n",
       "      <td>87</td>\n",
       "      <td>1505561409</td>\n",
       "      <td>398.222</td>\n",
       "      <td>368.979</td>\n",
       "      <td>intermediate</td>\n",
       "      <td>1439756111</td>\n",
       "    </tr>\n",
       "    <tr>\n",
       "      <th>7</th>\n",
       "      <td>0</td>\n",
       "      <td>0</td>\n",
       "      <td>0</td>\n",
       "      <td>2.0</td>\n",
       "      <td>0</td>\n",
       "      <td>0</td>\n",
       "      <td>0</td>\n",
       "      <td>0</td>\n",
       "      <td>0</td>\n",
       "      <td>0</td>\n",
       "      <td>...</td>\n",
       "      <td>254</td>\n",
       "      <td>217</td>\n",
       "      <td>0</td>\n",
       "      <td>Brazil</td>\n",
       "      <td>21</td>\n",
       "      <td>1505581625</td>\n",
       "      <td>433.486</td>\n",
       "      <td>395.356</td>\n",
       "      <td>intermediate</td>\n",
       "      <td>1464182831</td>\n",
       "    </tr>\n",
       "    <tr>\n",
       "      <th>8</th>\n",
       "      <td>0</td>\n",
       "      <td>0</td>\n",
       "      <td>0</td>\n",
       "      <td>1.0</td>\n",
       "      <td>0</td>\n",
       "      <td>0</td>\n",
       "      <td>0</td>\n",
       "      <td>0</td>\n",
       "      <td>0</td>\n",
       "      <td>0</td>\n",
       "      <td>...</td>\n",
       "      <td>216</td>\n",
       "      <td>199</td>\n",
       "      <td>0</td>\n",
       "      <td>India</td>\n",
       "      <td>28</td>\n",
       "      <td>1505534677</td>\n",
       "      <td>387.328</td>\n",
       "      <td>387.328</td>\n",
       "      <td>intermediate</td>\n",
       "      <td>1443374825</td>\n",
       "    </tr>\n",
       "    <tr>\n",
       "      <th>9</th>\n",
       "      <td>0</td>\n",
       "      <td>0</td>\n",
       "      <td>0</td>\n",
       "      <td>1.0</td>\n",
       "      <td>0</td>\n",
       "      <td>0</td>\n",
       "      <td>0</td>\n",
       "      <td>0</td>\n",
       "      <td>0</td>\n",
       "      <td>0</td>\n",
       "      <td>...</td>\n",
       "      <td>390</td>\n",
       "      <td>350</td>\n",
       "      <td>0</td>\n",
       "      <td>Bangladesh</td>\n",
       "      <td>56</td>\n",
       "      <td>1505556770</td>\n",
       "      <td>315.367</td>\n",
       "      <td>217.890</td>\n",
       "      <td>beginner</td>\n",
       "      <td>1384505273</td>\n",
       "    </tr>\n",
       "    <tr>\n",
       "      <th>10</th>\n",
       "      <td>0</td>\n",
       "      <td>0</td>\n",
       "      <td>0</td>\n",
       "      <td>1.0</td>\n",
       "      <td>0</td>\n",
       "      <td>0</td>\n",
       "      <td>0</td>\n",
       "      <td>0</td>\n",
       "      <td>0</td>\n",
       "      <td>0</td>\n",
       "      <td>...</td>\n",
       "      <td>439</td>\n",
       "      <td>426</td>\n",
       "      <td>0</td>\n",
       "      <td>China</td>\n",
       "      <td>21</td>\n",
       "      <td>1505555602</td>\n",
       "      <td>524.656</td>\n",
       "      <td>505.447</td>\n",
       "      <td>advanced</td>\n",
       "      <td>1473818621</td>\n",
       "    </tr>\n",
       "    <tr>\n",
       "      <th>11</th>\n",
       "      <td>0</td>\n",
       "      <td>0</td>\n",
       "      <td>0</td>\n",
       "      <td>2.0</td>\n",
       "      <td>0</td>\n",
       "      <td>0</td>\n",
       "      <td>1</td>\n",
       "      <td>0</td>\n",
       "      <td>0</td>\n",
       "      <td>1</td>\n",
       "      <td>...</td>\n",
       "      <td>301</td>\n",
       "      <td>227</td>\n",
       "      <td>0</td>\n",
       "      <td>Vietnam</td>\n",
       "      <td>27</td>\n",
       "      <td>1504604213</td>\n",
       "      <td>467.030</td>\n",
       "      <td>337.156</td>\n",
       "      <td>intermediate</td>\n",
       "      <td>1413472596</td>\n",
       "    </tr>\n",
       "    <tr>\n",
       "      <th>12</th>\n",
       "      <td>0</td>\n",
       "      <td>0</td>\n",
       "      <td>0</td>\n",
       "      <td>1.0</td>\n",
       "      <td>0</td>\n",
       "      <td>0</td>\n",
       "      <td>0</td>\n",
       "      <td>0</td>\n",
       "      <td>0</td>\n",
       "      <td>1</td>\n",
       "      <td>...</td>\n",
       "      <td>294</td>\n",
       "      <td>268</td>\n",
       "      <td>0</td>\n",
       "      <td>Romania</td>\n",
       "      <td>35</td>\n",
       "      <td>1505035867</td>\n",
       "      <td>475.631</td>\n",
       "      <td>475.631</td>\n",
       "      <td>advanced</td>\n",
       "      <td>1394801704</td>\n",
       "    </tr>\n",
       "    <tr>\n",
       "      <th>13</th>\n",
       "      <td>0</td>\n",
       "      <td>0</td>\n",
       "      <td>0</td>\n",
       "      <td>1.0</td>\n",
       "      <td>0</td>\n",
       "      <td>0</td>\n",
       "      <td>0</td>\n",
       "      <td>0</td>\n",
       "      <td>0</td>\n",
       "      <td>0</td>\n",
       "      <td>...</td>\n",
       "      <td>652</td>\n",
       "      <td>595</td>\n",
       "      <td>20</td>\n",
       "      <td>Czechia</td>\n",
       "      <td>132</td>\n",
       "      <td>1505589460</td>\n",
       "      <td>655.677</td>\n",
       "      <td>577.695</td>\n",
       "      <td>advanced</td>\n",
       "      <td>1264978137</td>\n",
       "    </tr>\n",
       "    <tr>\n",
       "      <th>14</th>\n",
       "      <td>0</td>\n",
       "      <td>0</td>\n",
       "      <td>0</td>\n",
       "      <td>2.0</td>\n",
       "      <td>0</td>\n",
       "      <td>0</td>\n",
       "      <td>0</td>\n",
       "      <td>0</td>\n",
       "      <td>1</td>\n",
       "      <td>0</td>\n",
       "      <td>...</td>\n",
       "      <td>404</td>\n",
       "      <td>382</td>\n",
       "      <td>0</td>\n",
       "      <td>Bangladesh</td>\n",
       "      <td>351</td>\n",
       "      <td>1505564922</td>\n",
       "      <td>471.330</td>\n",
       "      <td>471.330</td>\n",
       "      <td>advanced</td>\n",
       "      <td>1401604903</td>\n",
       "    </tr>\n",
       "    <tr>\n",
       "      <th>15</th>\n",
       "      <td>0</td>\n",
       "      <td>0</td>\n",
       "      <td>0</td>\n",
       "      <td>2.0</td>\n",
       "      <td>0</td>\n",
       "      <td>0</td>\n",
       "      <td>0</td>\n",
       "      <td>0</td>\n",
       "      <td>0</td>\n",
       "      <td>0</td>\n",
       "      <td>...</td>\n",
       "      <td>63</td>\n",
       "      <td>46</td>\n",
       "      <td>0</td>\n",
       "      <td>NaN</td>\n",
       "      <td>8</td>\n",
       "      <td>1485290430</td>\n",
       "      <td>315.654</td>\n",
       "      <td>286.411</td>\n",
       "      <td>beginner</td>\n",
       "      <td>1433181713</td>\n",
       "    </tr>\n",
       "    <tr>\n",
       "      <th>16</th>\n",
       "      <td>0</td>\n",
       "      <td>0</td>\n",
       "      <td>0</td>\n",
       "      <td>1.0</td>\n",
       "      <td>0</td>\n",
       "      <td>0</td>\n",
       "      <td>0</td>\n",
       "      <td>0</td>\n",
       "      <td>0</td>\n",
       "      <td>0</td>\n",
       "      <td>...</td>\n",
       "      <td>753</td>\n",
       "      <td>697</td>\n",
       "      <td>0</td>\n",
       "      <td>Spain</td>\n",
       "      <td>36</td>\n",
       "      <td>1505338257</td>\n",
       "      <td>497.420</td>\n",
       "      <td>479.644</td>\n",
       "      <td>advanced</td>\n",
       "      <td>1361908706</td>\n",
       "    </tr>\n",
       "    <tr>\n",
       "      <th>17</th>\n",
       "      <td>0</td>\n",
       "      <td>0</td>\n",
       "      <td>0</td>\n",
       "      <td>1.0</td>\n",
       "      <td>0</td>\n",
       "      <td>0</td>\n",
       "      <td>0</td>\n",
       "      <td>0</td>\n",
       "      <td>0</td>\n",
       "      <td>0</td>\n",
       "      <td>...</td>\n",
       "      <td>112</td>\n",
       "      <td>97</td>\n",
       "      <td>0</td>\n",
       "      <td>India</td>\n",
       "      <td>5</td>\n",
       "      <td>1505550351</td>\n",
       "      <td>320.528</td>\n",
       "      <td>295.298</td>\n",
       "      <td>beginner</td>\n",
       "      <td>1474378098</td>\n",
       "    </tr>\n",
       "    <tr>\n",
       "      <th>18</th>\n",
       "      <td>0</td>\n",
       "      <td>0</td>\n",
       "      <td>0</td>\n",
       "      <td>1.0</td>\n",
       "      <td>0</td>\n",
       "      <td>0</td>\n",
       "      <td>0</td>\n",
       "      <td>0</td>\n",
       "      <td>0</td>\n",
       "      <td>1</td>\n",
       "      <td>...</td>\n",
       "      <td>50</td>\n",
       "      <td>45</td>\n",
       "      <td>0</td>\n",
       "      <td>Japan</td>\n",
       "      <td>1</td>\n",
       "      <td>1494402344</td>\n",
       "      <td>440.654</td>\n",
       "      <td>440.654</td>\n",
       "      <td>intermediate</td>\n",
       "      <td>1479664011</td>\n",
       "    </tr>\n",
       "    <tr>\n",
       "      <th>19</th>\n",
       "      <td>0</td>\n",
       "      <td>0</td>\n",
       "      <td>0</td>\n",
       "      <td>2.0</td>\n",
       "      <td>0</td>\n",
       "      <td>0</td>\n",
       "      <td>0</td>\n",
       "      <td>0</td>\n",
       "      <td>0</td>\n",
       "      <td>0</td>\n",
       "      <td>...</td>\n",
       "      <td>58</td>\n",
       "      <td>51</td>\n",
       "      <td>0</td>\n",
       "      <td>NaN</td>\n",
       "      <td>0</td>\n",
       "      <td>1505552744</td>\n",
       "      <td>330.275</td>\n",
       "      <td>262.901</td>\n",
       "      <td>beginner</td>\n",
       "      <td>1480086231</td>\n",
       "    </tr>\n",
       "    <tr>\n",
       "      <th>20</th>\n",
       "      <td>0</td>\n",
       "      <td>0</td>\n",
       "      <td>0</td>\n",
       "      <td>1.0</td>\n",
       "      <td>0</td>\n",
       "      <td>1</td>\n",
       "      <td>0</td>\n",
       "      <td>0</td>\n",
       "      <td>0</td>\n",
       "      <td>0</td>\n",
       "      <td>...</td>\n",
       "      <td>625</td>\n",
       "      <td>536</td>\n",
       "      <td>152</td>\n",
       "      <td>Russia</td>\n",
       "      <td>1054</td>\n",
       "      <td>1505583926</td>\n",
       "      <td>778.670</td>\n",
       "      <td>770.069</td>\n",
       "      <td>expert</td>\n",
       "      <td>1278517887</td>\n",
       "    </tr>\n",
       "    <tr>\n",
       "      <th>21</th>\n",
       "      <td>0</td>\n",
       "      <td>0</td>\n",
       "      <td>0</td>\n",
       "      <td>2.0</td>\n",
       "      <td>0</td>\n",
       "      <td>0</td>\n",
       "      <td>0</td>\n",
       "      <td>0</td>\n",
       "      <td>0</td>\n",
       "      <td>0</td>\n",
       "      <td>...</td>\n",
       "      <td>106</td>\n",
       "      <td>93</td>\n",
       "      <td>0</td>\n",
       "      <td>NaN</td>\n",
       "      <td>13</td>\n",
       "      <td>1505560570</td>\n",
       "      <td>413.704</td>\n",
       "      <td>394.209</td>\n",
       "      <td>intermediate</td>\n",
       "      <td>1466175804</td>\n",
       "    </tr>\n",
       "    <tr>\n",
       "      <th>22</th>\n",
       "      <td>0</td>\n",
       "      <td>0</td>\n",
       "      <td>0</td>\n",
       "      <td>1.0</td>\n",
       "      <td>0</td>\n",
       "      <td>0</td>\n",
       "      <td>0</td>\n",
       "      <td>0</td>\n",
       "      <td>0</td>\n",
       "      <td>0</td>\n",
       "      <td>...</td>\n",
       "      <td>273</td>\n",
       "      <td>218</td>\n",
       "      <td>-2</td>\n",
       "      <td>Bangladesh</td>\n",
       "      <td>76</td>\n",
       "      <td>1504959860</td>\n",
       "      <td>313.647</td>\n",
       "      <td>258.888</td>\n",
       "      <td>beginner</td>\n",
       "      <td>1446995678</td>\n",
       "    </tr>\n",
       "    <tr>\n",
       "      <th>23</th>\n",
       "      <td>0</td>\n",
       "      <td>0</td>\n",
       "      <td>0</td>\n",
       "      <td>1.0</td>\n",
       "      <td>0</td>\n",
       "      <td>0</td>\n",
       "      <td>1</td>\n",
       "      <td>0</td>\n",
       "      <td>0</td>\n",
       "      <td>0</td>\n",
       "      <td>...</td>\n",
       "      <td>728</td>\n",
       "      <td>691</td>\n",
       "      <td>13</td>\n",
       "      <td>India</td>\n",
       "      <td>135</td>\n",
       "      <td>1505475218</td>\n",
       "      <td>442.661</td>\n",
       "      <td>415.998</td>\n",
       "      <td>intermediate</td>\n",
       "      <td>1438803475</td>\n",
       "    </tr>\n",
       "    <tr>\n",
       "      <th>24</th>\n",
       "      <td>0</td>\n",
       "      <td>0</td>\n",
       "      <td>0</td>\n",
       "      <td>1.0</td>\n",
       "      <td>0</td>\n",
       "      <td>0</td>\n",
       "      <td>1</td>\n",
       "      <td>0</td>\n",
       "      <td>0</td>\n",
       "      <td>0</td>\n",
       "      <td>...</td>\n",
       "      <td>335</td>\n",
       "      <td>314</td>\n",
       "      <td>0</td>\n",
       "      <td>India</td>\n",
       "      <td>12</td>\n",
       "      <td>1501138300</td>\n",
       "      <td>391.628</td>\n",
       "      <td>391.628</td>\n",
       "      <td>intermediate</td>\n",
       "      <td>1419955527</td>\n",
       "    </tr>\n",
       "    <tr>\n",
       "      <th>25</th>\n",
       "      <td>0</td>\n",
       "      <td>0</td>\n",
       "      <td>0</td>\n",
       "      <td>1.0</td>\n",
       "      <td>0</td>\n",
       "      <td>0</td>\n",
       "      <td>0</td>\n",
       "      <td>0</td>\n",
       "      <td>0</td>\n",
       "      <td>0</td>\n",
       "      <td>...</td>\n",
       "      <td>273</td>\n",
       "      <td>247</td>\n",
       "      <td>0</td>\n",
       "      <td>Russia</td>\n",
       "      <td>31</td>\n",
       "      <td>1502089475</td>\n",
       "      <td>482.798</td>\n",
       "      <td>479.931</td>\n",
       "      <td>advanced</td>\n",
       "      <td>1425050679</td>\n",
       "    </tr>\n",
       "    <tr>\n",
       "      <th>26</th>\n",
       "      <td>0</td>\n",
       "      <td>0</td>\n",
       "      <td>0</td>\n",
       "      <td>1.0</td>\n",
       "      <td>0</td>\n",
       "      <td>0</td>\n",
       "      <td>0</td>\n",
       "      <td>0</td>\n",
       "      <td>0</td>\n",
       "      <td>0</td>\n",
       "      <td>...</td>\n",
       "      <td>488</td>\n",
       "      <td>412</td>\n",
       "      <td>6</td>\n",
       "      <td>Ukraine</td>\n",
       "      <td>58</td>\n",
       "      <td>1504107513</td>\n",
       "      <td>493.979</td>\n",
       "      <td>461.869</td>\n",
       "      <td>advanced</td>\n",
       "      <td>1328857430</td>\n",
       "    </tr>\n",
       "    <tr>\n",
       "      <th>27</th>\n",
       "      <td>0</td>\n",
       "      <td>0</td>\n",
       "      <td>0</td>\n",
       "      <td>4.0</td>\n",
       "      <td>0</td>\n",
       "      <td>0</td>\n",
       "      <td>0</td>\n",
       "      <td>0</td>\n",
       "      <td>0</td>\n",
       "      <td>0</td>\n",
       "      <td>...</td>\n",
       "      <td>240</td>\n",
       "      <td>218</td>\n",
       "      <td>0</td>\n",
       "      <td>Bangladesh</td>\n",
       "      <td>50</td>\n",
       "      <td>1505252563</td>\n",
       "      <td>319.954</td>\n",
       "      <td>291.284</td>\n",
       "      <td>beginner</td>\n",
       "      <td>1385471472</td>\n",
       "    </tr>\n",
       "    <tr>\n",
       "      <th>28</th>\n",
       "      <td>0</td>\n",
       "      <td>0</td>\n",
       "      <td>0</td>\n",
       "      <td>1.0</td>\n",
       "      <td>0</td>\n",
       "      <td>0</td>\n",
       "      <td>0</td>\n",
       "      <td>0</td>\n",
       "      <td>0</td>\n",
       "      <td>0</td>\n",
       "      <td>...</td>\n",
       "      <td>286</td>\n",
       "      <td>264</td>\n",
       "      <td>11</td>\n",
       "      <td>Romania</td>\n",
       "      <td>50</td>\n",
       "      <td>1505404965</td>\n",
       "      <td>464.736</td>\n",
       "      <td>422.305</td>\n",
       "      <td>intermediate</td>\n",
       "      <td>1439111687</td>\n",
       "    </tr>\n",
       "    <tr>\n",
       "      <th>29</th>\n",
       "      <td>0</td>\n",
       "      <td>0</td>\n",
       "      <td>0</td>\n",
       "      <td>1.0</td>\n",
       "      <td>0</td>\n",
       "      <td>0</td>\n",
       "      <td>1</td>\n",
       "      <td>0</td>\n",
       "      <td>0</td>\n",
       "      <td>0</td>\n",
       "      <td>...</td>\n",
       "      <td>15</td>\n",
       "      <td>8</td>\n",
       "      <td>0</td>\n",
       "      <td>NaN</td>\n",
       "      <td>0</td>\n",
       "      <td>1490814904</td>\n",
       "      <td>307.913</td>\n",
       "      <td>260.894</td>\n",
       "      <td>beginner</td>\n",
       "      <td>1449672047</td>\n",
       "    </tr>\n",
       "    <tr>\n",
       "      <th>...</th>\n",
       "      <td>...</td>\n",
       "      <td>...</td>\n",
       "      <td>...</td>\n",
       "      <td>...</td>\n",
       "      <td>...</td>\n",
       "      <td>...</td>\n",
       "      <td>...</td>\n",
       "      <td>...</td>\n",
       "      <td>...</td>\n",
       "      <td>...</td>\n",
       "      <td>...</td>\n",
       "      <td>...</td>\n",
       "      <td>...</td>\n",
       "      <td>...</td>\n",
       "      <td>...</td>\n",
       "      <td>...</td>\n",
       "      <td>...</td>\n",
       "      <td>...</td>\n",
       "      <td>...</td>\n",
       "      <td>...</td>\n",
       "      <td>...</td>\n",
       "    </tr>\n",
       "    <tr>\n",
       "      <th>155265</th>\n",
       "      <td>0</td>\n",
       "      <td>0</td>\n",
       "      <td>0</td>\n",
       "      <td>1.0</td>\n",
       "      <td>0</td>\n",
       "      <td>0</td>\n",
       "      <td>0</td>\n",
       "      <td>0</td>\n",
       "      <td>0</td>\n",
       "      <td>0</td>\n",
       "      <td>...</td>\n",
       "      <td>217</td>\n",
       "      <td>199</td>\n",
       "      <td>0</td>\n",
       "      <td>India</td>\n",
       "      <td>19</td>\n",
       "      <td>1502307905</td>\n",
       "      <td>315.940</td>\n",
       "      <td>262.041</td>\n",
       "      <td>beginner</td>\n",
       "      <td>1470933682</td>\n",
       "    </tr>\n",
       "    <tr>\n",
       "      <th>155266</th>\n",
       "      <td>0</td>\n",
       "      <td>0</td>\n",
       "      <td>0</td>\n",
       "      <td>1.0</td>\n",
       "      <td>0</td>\n",
       "      <td>0</td>\n",
       "      <td>0</td>\n",
       "      <td>0</td>\n",
       "      <td>0</td>\n",
       "      <td>0</td>\n",
       "      <td>...</td>\n",
       "      <td>105</td>\n",
       "      <td>85</td>\n",
       "      <td>0</td>\n",
       "      <td>India</td>\n",
       "      <td>37</td>\n",
       "      <td>1502782050</td>\n",
       "      <td>393.922</td>\n",
       "      <td>393.922</td>\n",
       "      <td>intermediate</td>\n",
       "      <td>1481711057</td>\n",
       "    </tr>\n",
       "    <tr>\n",
       "      <th>155267</th>\n",
       "      <td>0</td>\n",
       "      <td>0</td>\n",
       "      <td>0</td>\n",
       "      <td>1.0</td>\n",
       "      <td>0</td>\n",
       "      <td>0</td>\n",
       "      <td>1</td>\n",
       "      <td>0</td>\n",
       "      <td>0</td>\n",
       "      <td>1</td>\n",
       "      <td>...</td>\n",
       "      <td>894</td>\n",
       "      <td>855</td>\n",
       "      <td>0</td>\n",
       "      <td>Egypt</td>\n",
       "      <td>17</td>\n",
       "      <td>1505527406</td>\n",
       "      <td>325.975</td>\n",
       "      <td>292.718</td>\n",
       "      <td>beginner</td>\n",
       "      <td>1471348164</td>\n",
       "    </tr>\n",
       "    <tr>\n",
       "      <th>155268</th>\n",
       "      <td>0</td>\n",
       "      <td>0</td>\n",
       "      <td>0</td>\n",
       "      <td>2.0</td>\n",
       "      <td>0</td>\n",
       "      <td>0</td>\n",
       "      <td>0</td>\n",
       "      <td>0</td>\n",
       "      <td>0</td>\n",
       "      <td>0</td>\n",
       "      <td>...</td>\n",
       "      <td>153</td>\n",
       "      <td>111</td>\n",
       "      <td>0</td>\n",
       "      <td>NaN</td>\n",
       "      <td>6</td>\n",
       "      <td>1505510970</td>\n",
       "      <td>307.626</td>\n",
       "      <td>243.119</td>\n",
       "      <td>beginner</td>\n",
       "      <td>1475344896</td>\n",
       "    </tr>\n",
       "    <tr>\n",
       "      <th>155269</th>\n",
       "      <td>0</td>\n",
       "      <td>0</td>\n",
       "      <td>0</td>\n",
       "      <td>2.0</td>\n",
       "      <td>0</td>\n",
       "      <td>0</td>\n",
       "      <td>0</td>\n",
       "      <td>0</td>\n",
       "      <td>0</td>\n",
       "      <td>0</td>\n",
       "      <td>...</td>\n",
       "      <td>187</td>\n",
       "      <td>186</td>\n",
       "      <td>0</td>\n",
       "      <td>NaN</td>\n",
       "      <td>2</td>\n",
       "      <td>1505550515</td>\n",
       "      <td>327.695</td>\n",
       "      <td>327.695</td>\n",
       "      <td>intermediate</td>\n",
       "      <td>1419402256</td>\n",
       "    </tr>\n",
       "    <tr>\n",
       "      <th>155270</th>\n",
       "      <td>0</td>\n",
       "      <td>0</td>\n",
       "      <td>0</td>\n",
       "      <td>2.0</td>\n",
       "      <td>0</td>\n",
       "      <td>0</td>\n",
       "      <td>0</td>\n",
       "      <td>0</td>\n",
       "      <td>0</td>\n",
       "      <td>0</td>\n",
       "      <td>...</td>\n",
       "      <td>155</td>\n",
       "      <td>135</td>\n",
       "      <td>0</td>\n",
       "      <td>India</td>\n",
       "      <td>80</td>\n",
       "      <td>1505421849</td>\n",
       "      <td>492.546</td>\n",
       "      <td>472.190</td>\n",
       "      <td>advanced</td>\n",
       "      <td>1437724657</td>\n",
       "    </tr>\n",
       "    <tr>\n",
       "      <th>155271</th>\n",
       "      <td>0</td>\n",
       "      <td>0</td>\n",
       "      <td>0</td>\n",
       "      <td>4.0</td>\n",
       "      <td>0</td>\n",
       "      <td>0</td>\n",
       "      <td>0</td>\n",
       "      <td>0</td>\n",
       "      <td>1</td>\n",
       "      <td>0</td>\n",
       "      <td>...</td>\n",
       "      <td>452</td>\n",
       "      <td>425</td>\n",
       "      <td>-18</td>\n",
       "      <td>Bangladesh</td>\n",
       "      <td>32</td>\n",
       "      <td>1505562898</td>\n",
       "      <td>314.220</td>\n",
       "      <td>263.188</td>\n",
       "      <td>beginner</td>\n",
       "      <td>1439216619</td>\n",
       "    </tr>\n",
       "    <tr>\n",
       "      <th>155272</th>\n",
       "      <td>0</td>\n",
       "      <td>0</td>\n",
       "      <td>0</td>\n",
       "      <td>1.0</td>\n",
       "      <td>0</td>\n",
       "      <td>0</td>\n",
       "      <td>0</td>\n",
       "      <td>0</td>\n",
       "      <td>0</td>\n",
       "      <td>0</td>\n",
       "      <td>...</td>\n",
       "      <td>239</td>\n",
       "      <td>202</td>\n",
       "      <td>0</td>\n",
       "      <td>India</td>\n",
       "      <td>54</td>\n",
       "      <td>1495000704</td>\n",
       "      <td>378.154</td>\n",
       "      <td>346.044</td>\n",
       "      <td>intermediate</td>\n",
       "      <td>1438088365</td>\n",
       "    </tr>\n",
       "    <tr>\n",
       "      <th>155273</th>\n",
       "      <td>0</td>\n",
       "      <td>0</td>\n",
       "      <td>0</td>\n",
       "      <td>1.0</td>\n",
       "      <td>0</td>\n",
       "      <td>0</td>\n",
       "      <td>0</td>\n",
       "      <td>0</td>\n",
       "      <td>0</td>\n",
       "      <td>0</td>\n",
       "      <td>...</td>\n",
       "      <td>122</td>\n",
       "      <td>107</td>\n",
       "      <td>0</td>\n",
       "      <td>Russia</td>\n",
       "      <td>17</td>\n",
       "      <td>1505039275</td>\n",
       "      <td>559.060</td>\n",
       "      <td>559.060</td>\n",
       "      <td>advanced</td>\n",
       "      <td>1460742540</td>\n",
       "    </tr>\n",
       "    <tr>\n",
       "      <th>155274</th>\n",
       "      <td>0</td>\n",
       "      <td>0</td>\n",
       "      <td>0</td>\n",
       "      <td>2.0</td>\n",
       "      <td>1</td>\n",
       "      <td>1</td>\n",
       "      <td>0</td>\n",
       "      <td>0</td>\n",
       "      <td>0</td>\n",
       "      <td>1</td>\n",
       "      <td>...</td>\n",
       "      <td>791</td>\n",
       "      <td>738</td>\n",
       "      <td>-1</td>\n",
       "      <td>Germany</td>\n",
       "      <td>0</td>\n",
       "      <td>1503408876</td>\n",
       "      <td>367.833</td>\n",
       "      <td>321.674</td>\n",
       "      <td>intermediate</td>\n",
       "      <td>1424981753</td>\n",
       "    </tr>\n",
       "    <tr>\n",
       "      <th>155275</th>\n",
       "      <td>0</td>\n",
       "      <td>0</td>\n",
       "      <td>0</td>\n",
       "      <td>1.0</td>\n",
       "      <td>0</td>\n",
       "      <td>0</td>\n",
       "      <td>1</td>\n",
       "      <td>0</td>\n",
       "      <td>0</td>\n",
       "      <td>0</td>\n",
       "      <td>...</td>\n",
       "      <td>96</td>\n",
       "      <td>75</td>\n",
       "      <td>0</td>\n",
       "      <td>NaN</td>\n",
       "      <td>1</td>\n",
       "      <td>1504893469</td>\n",
       "      <td>325.688</td>\n",
       "      <td>257.454</td>\n",
       "      <td>beginner</td>\n",
       "      <td>1457365306</td>\n",
       "    </tr>\n",
       "    <tr>\n",
       "      <th>155276</th>\n",
       "      <td>0</td>\n",
       "      <td>0</td>\n",
       "      <td>0</td>\n",
       "      <td>3.0</td>\n",
       "      <td>0</td>\n",
       "      <td>0</td>\n",
       "      <td>0</td>\n",
       "      <td>0</td>\n",
       "      <td>0</td>\n",
       "      <td>1</td>\n",
       "      <td>...</td>\n",
       "      <td>108</td>\n",
       "      <td>82</td>\n",
       "      <td>0</td>\n",
       "      <td>Bangladesh</td>\n",
       "      <td>16</td>\n",
       "      <td>1505226083</td>\n",
       "      <td>308.200</td>\n",
       "      <td>213.303</td>\n",
       "      <td>beginner</td>\n",
       "      <td>1437283525</td>\n",
       "    </tr>\n",
       "    <tr>\n",
       "      <th>155277</th>\n",
       "      <td>0</td>\n",
       "      <td>0</td>\n",
       "      <td>0</td>\n",
       "      <td>1.0</td>\n",
       "      <td>0</td>\n",
       "      <td>0</td>\n",
       "      <td>0</td>\n",
       "      <td>0</td>\n",
       "      <td>0</td>\n",
       "      <td>0</td>\n",
       "      <td>...</td>\n",
       "      <td>141</td>\n",
       "      <td>107</td>\n",
       "      <td>0</td>\n",
       "      <td>India</td>\n",
       "      <td>15</td>\n",
       "      <td>1505561105</td>\n",
       "      <td>368.406</td>\n",
       "      <td>356.365</td>\n",
       "      <td>intermediate</td>\n",
       "      <td>1471885846</td>\n",
       "    </tr>\n",
       "    <tr>\n",
       "      <th>155278</th>\n",
       "      <td>0</td>\n",
       "      <td>0</td>\n",
       "      <td>0</td>\n",
       "      <td>1.0</td>\n",
       "      <td>0</td>\n",
       "      <td>0</td>\n",
       "      <td>0</td>\n",
       "      <td>0</td>\n",
       "      <td>0</td>\n",
       "      <td>0</td>\n",
       "      <td>...</td>\n",
       "      <td>557</td>\n",
       "      <td>458</td>\n",
       "      <td>7</td>\n",
       "      <td>India</td>\n",
       "      <td>30</td>\n",
       "      <td>1505573438</td>\n",
       "      <td>325.115</td>\n",
       "      <td>325.115</td>\n",
       "      <td>intermediate</td>\n",
       "      <td>1473506681</td>\n",
       "    </tr>\n",
       "    <tr>\n",
       "      <th>155279</th>\n",
       "      <td>0</td>\n",
       "      <td>0</td>\n",
       "      <td>0</td>\n",
       "      <td>1.0</td>\n",
       "      <td>0</td>\n",
       "      <td>0</td>\n",
       "      <td>0</td>\n",
       "      <td>0</td>\n",
       "      <td>0</td>\n",
       "      <td>1</td>\n",
       "      <td>...</td>\n",
       "      <td>148</td>\n",
       "      <td>122</td>\n",
       "      <td>0</td>\n",
       "      <td>NaN</td>\n",
       "      <td>5</td>\n",
       "      <td>1505579574</td>\n",
       "      <td>313.933</td>\n",
       "      <td>231.078</td>\n",
       "      <td>beginner</td>\n",
       "      <td>1476280641</td>\n",
       "    </tr>\n",
       "    <tr>\n",
       "      <th>155280</th>\n",
       "      <td>0</td>\n",
       "      <td>0</td>\n",
       "      <td>0</td>\n",
       "      <td>1.0</td>\n",
       "      <td>0</td>\n",
       "      <td>0</td>\n",
       "      <td>0</td>\n",
       "      <td>0</td>\n",
       "      <td>0</td>\n",
       "      <td>0</td>\n",
       "      <td>...</td>\n",
       "      <td>127</td>\n",
       "      <td>107</td>\n",
       "      <td>-7</td>\n",
       "      <td>India</td>\n",
       "      <td>3</td>\n",
       "      <td>1502733152</td>\n",
       "      <td>304.759</td>\n",
       "      <td>222.764</td>\n",
       "      <td>beginner</td>\n",
       "      <td>1469444000</td>\n",
       "    </tr>\n",
       "    <tr>\n",
       "      <th>155281</th>\n",
       "      <td>0</td>\n",
       "      <td>0</td>\n",
       "      <td>0</td>\n",
       "      <td>1.0</td>\n",
       "      <td>0</td>\n",
       "      <td>0</td>\n",
       "      <td>0</td>\n",
       "      <td>0</td>\n",
       "      <td>0</td>\n",
       "      <td>0</td>\n",
       "      <td>...</td>\n",
       "      <td>86</td>\n",
       "      <td>71</td>\n",
       "      <td>0</td>\n",
       "      <td>NaN</td>\n",
       "      <td>0</td>\n",
       "      <td>1505311224</td>\n",
       "      <td>385.034</td>\n",
       "      <td>292.144</td>\n",
       "      <td>beginner</td>\n",
       "      <td>1385060478</td>\n",
       "    </tr>\n",
       "    <tr>\n",
       "      <th>155282</th>\n",
       "      <td>0</td>\n",
       "      <td>0</td>\n",
       "      <td>0</td>\n",
       "      <td>1.0</td>\n",
       "      <td>0</td>\n",
       "      <td>0</td>\n",
       "      <td>0</td>\n",
       "      <td>0</td>\n",
       "      <td>0</td>\n",
       "      <td>0</td>\n",
       "      <td>...</td>\n",
       "      <td>523</td>\n",
       "      <td>433</td>\n",
       "      <td>0</td>\n",
       "      <td>Kazakhstan</td>\n",
       "      <td>54</td>\n",
       "      <td>1505468409</td>\n",
       "      <td>428.612</td>\n",
       "      <td>420.872</td>\n",
       "      <td>intermediate</td>\n",
       "      <td>1433404437</td>\n",
       "    </tr>\n",
       "    <tr>\n",
       "      <th>155283</th>\n",
       "      <td>0</td>\n",
       "      <td>0</td>\n",
       "      <td>0</td>\n",
       "      <td>1.0</td>\n",
       "      <td>0</td>\n",
       "      <td>0</td>\n",
       "      <td>0</td>\n",
       "      <td>0</td>\n",
       "      <td>0</td>\n",
       "      <td>0</td>\n",
       "      <td>...</td>\n",
       "      <td>1786</td>\n",
       "      <td>1701</td>\n",
       "      <td>6</td>\n",
       "      <td>Peru</td>\n",
       "      <td>180</td>\n",
       "      <td>1505100251</td>\n",
       "      <td>476.491</td>\n",
       "      <td>476.491</td>\n",
       "      <td>advanced</td>\n",
       "      <td>1326486683</td>\n",
       "    </tr>\n",
       "    <tr>\n",
       "      <th>155284</th>\n",
       "      <td>0</td>\n",
       "      <td>0</td>\n",
       "      <td>0</td>\n",
       "      <td>1.0</td>\n",
       "      <td>0</td>\n",
       "      <td>0</td>\n",
       "      <td>0</td>\n",
       "      <td>0</td>\n",
       "      <td>0</td>\n",
       "      <td>0</td>\n",
       "      <td>...</td>\n",
       "      <td>219</td>\n",
       "      <td>203</td>\n",
       "      <td>0</td>\n",
       "      <td>Bangladesh</td>\n",
       "      <td>47</td>\n",
       "      <td>1505292870</td>\n",
       "      <td>314.794</td>\n",
       "      <td>268.635</td>\n",
       "      <td>beginner</td>\n",
       "      <td>1416242285</td>\n",
       "    </tr>\n",
       "    <tr>\n",
       "      <th>155285</th>\n",
       "      <td>0</td>\n",
       "      <td>0</td>\n",
       "      <td>0</td>\n",
       "      <td>1.0</td>\n",
       "      <td>1</td>\n",
       "      <td>0</td>\n",
       "      <td>1</td>\n",
       "      <td>0</td>\n",
       "      <td>0</td>\n",
       "      <td>0</td>\n",
       "      <td>...</td>\n",
       "      <td>253</td>\n",
       "      <td>240</td>\n",
       "      <td>124</td>\n",
       "      <td>Philippines</td>\n",
       "      <td>84</td>\n",
       "      <td>1505563580</td>\n",
       "      <td>605.218</td>\n",
       "      <td>605.218</td>\n",
       "      <td>expert</td>\n",
       "      <td>1405745368</td>\n",
       "    </tr>\n",
       "    <tr>\n",
       "      <th>155286</th>\n",
       "      <td>0</td>\n",
       "      <td>0</td>\n",
       "      <td>0</td>\n",
       "      <td>1.0</td>\n",
       "      <td>0</td>\n",
       "      <td>0</td>\n",
       "      <td>0</td>\n",
       "      <td>0</td>\n",
       "      <td>0</td>\n",
       "      <td>1</td>\n",
       "      <td>...</td>\n",
       "      <td>156</td>\n",
       "      <td>116</td>\n",
       "      <td>0</td>\n",
       "      <td>NaN</td>\n",
       "      <td>2</td>\n",
       "      <td>1502554787</td>\n",
       "      <td>391.342</td>\n",
       "      <td>388.188</td>\n",
       "      <td>intermediate</td>\n",
       "      <td>1446311259</td>\n",
       "    </tr>\n",
       "    <tr>\n",
       "      <th>155287</th>\n",
       "      <td>0</td>\n",
       "      <td>0</td>\n",
       "      <td>0</td>\n",
       "      <td>2.0</td>\n",
       "      <td>0</td>\n",
       "      <td>0</td>\n",
       "      <td>0</td>\n",
       "      <td>0</td>\n",
       "      <td>0</td>\n",
       "      <td>0</td>\n",
       "      <td>...</td>\n",
       "      <td>721</td>\n",
       "      <td>661</td>\n",
       "      <td>7</td>\n",
       "      <td>Bangladesh</td>\n",
       "      <td>206</td>\n",
       "      <td>1504941017</td>\n",
       "      <td>390.768</td>\n",
       "      <td>366.112</td>\n",
       "      <td>intermediate</td>\n",
       "      <td>1413561746</td>\n",
       "    </tr>\n",
       "    <tr>\n",
       "      <th>155288</th>\n",
       "      <td>0</td>\n",
       "      <td>0</td>\n",
       "      <td>0</td>\n",
       "      <td>1.0</td>\n",
       "      <td>0</td>\n",
       "      <td>0</td>\n",
       "      <td>0</td>\n",
       "      <td>0</td>\n",
       "      <td>0</td>\n",
       "      <td>1</td>\n",
       "      <td>...</td>\n",
       "      <td>280</td>\n",
       "      <td>251</td>\n",
       "      <td>0</td>\n",
       "      <td>Egypt</td>\n",
       "      <td>8</td>\n",
       "      <td>1505564291</td>\n",
       "      <td>317.374</td>\n",
       "      <td>287.844</td>\n",
       "      <td>beginner</td>\n",
       "      <td>1386621378</td>\n",
       "    </tr>\n",
       "    <tr>\n",
       "      <th>155289</th>\n",
       "      <td>0</td>\n",
       "      <td>0</td>\n",
       "      <td>0</td>\n",
       "      <td>2.0</td>\n",
       "      <td>0</td>\n",
       "      <td>0</td>\n",
       "      <td>0</td>\n",
       "      <td>0</td>\n",
       "      <td>0</td>\n",
       "      <td>0</td>\n",
       "      <td>...</td>\n",
       "      <td>45</td>\n",
       "      <td>31</td>\n",
       "      <td>0</td>\n",
       "      <td>India</td>\n",
       "      <td>1</td>\n",
       "      <td>1498710446</td>\n",
       "      <td>304.759</td>\n",
       "      <td>192.661</td>\n",
       "      <td>beginner</td>\n",
       "      <td>1452970505</td>\n",
       "    </tr>\n",
       "    <tr>\n",
       "      <th>155290</th>\n",
       "      <td>0</td>\n",
       "      <td>0</td>\n",
       "      <td>0</td>\n",
       "      <td>1.0</td>\n",
       "      <td>0</td>\n",
       "      <td>0</td>\n",
       "      <td>0</td>\n",
       "      <td>0</td>\n",
       "      <td>0</td>\n",
       "      <td>0</td>\n",
       "      <td>...</td>\n",
       "      <td>226</td>\n",
       "      <td>200</td>\n",
       "      <td>0</td>\n",
       "      <td>India</td>\n",
       "      <td>17</td>\n",
       "      <td>1505584042</td>\n",
       "      <td>360.378</td>\n",
       "      <td>329.415</td>\n",
       "      <td>intermediate</td>\n",
       "      <td>1469909800</td>\n",
       "    </tr>\n",
       "    <tr>\n",
       "      <th>155291</th>\n",
       "      <td>0</td>\n",
       "      <td>0</td>\n",
       "      <td>0</td>\n",
       "      <td>6.0</td>\n",
       "      <td>0</td>\n",
       "      <td>0</td>\n",
       "      <td>0</td>\n",
       "      <td>0</td>\n",
       "      <td>0</td>\n",
       "      <td>0</td>\n",
       "      <td>...</td>\n",
       "      <td>583</td>\n",
       "      <td>519</td>\n",
       "      <td>-17</td>\n",
       "      <td>Bangladesh</td>\n",
       "      <td>70</td>\n",
       "      <td>1505517523</td>\n",
       "      <td>327.122</td>\n",
       "      <td>286.411</td>\n",
       "      <td>beginner</td>\n",
       "      <td>1446655021</td>\n",
       "    </tr>\n",
       "    <tr>\n",
       "      <th>155292</th>\n",
       "      <td>0</td>\n",
       "      <td>0</td>\n",
       "      <td>0</td>\n",
       "      <td>1.0</td>\n",
       "      <td>0</td>\n",
       "      <td>0</td>\n",
       "      <td>0</td>\n",
       "      <td>0</td>\n",
       "      <td>0</td>\n",
       "      <td>0</td>\n",
       "      <td>...</td>\n",
       "      <td>138</td>\n",
       "      <td>117</td>\n",
       "      <td>0</td>\n",
       "      <td>India</td>\n",
       "      <td>13</td>\n",
       "      <td>1504944103</td>\n",
       "      <td>318.807</td>\n",
       "      <td>252.007</td>\n",
       "      <td>beginner</td>\n",
       "      <td>1470375263</td>\n",
       "    </tr>\n",
       "    <tr>\n",
       "      <th>155293</th>\n",
       "      <td>0</td>\n",
       "      <td>0</td>\n",
       "      <td>0</td>\n",
       "      <td>2.0</td>\n",
       "      <td>0</td>\n",
       "      <td>0</td>\n",
       "      <td>0</td>\n",
       "      <td>0</td>\n",
       "      <td>0</td>\n",
       "      <td>1</td>\n",
       "      <td>...</td>\n",
       "      <td>185</td>\n",
       "      <td>148</td>\n",
       "      <td>0</td>\n",
       "      <td>NaN</td>\n",
       "      <td>1</td>\n",
       "      <td>1486101965</td>\n",
       "      <td>317.661</td>\n",
       "      <td>259.748</td>\n",
       "      <td>beginner</td>\n",
       "      <td>1449598352</td>\n",
       "    </tr>\n",
       "    <tr>\n",
       "      <th>155294</th>\n",
       "      <td>0</td>\n",
       "      <td>0</td>\n",
       "      <td>0</td>\n",
       "      <td>2.0</td>\n",
       "      <td>0</td>\n",
       "      <td>0</td>\n",
       "      <td>0</td>\n",
       "      <td>0</td>\n",
       "      <td>0</td>\n",
       "      <td>0</td>\n",
       "      <td>...</td>\n",
       "      <td>1356</td>\n",
       "      <td>1186</td>\n",
       "      <td>6</td>\n",
       "      <td>Kazakhstan</td>\n",
       "      <td>250</td>\n",
       "      <td>1505576413</td>\n",
       "      <td>506.021</td>\n",
       "      <td>492.259</td>\n",
       "      <td>advanced</td>\n",
       "      <td>1322910262</td>\n",
       "    </tr>\n",
       "  </tbody>\n",
       "</table>\n",
       "<p>155295 rows × 52 columns</p>\n",
       "</div>"
      ],
      "text/plain": [
       "        *special  2-sat  None  attempts_range  binary search  bitmasks  \\\n",
       "0              0      0     0             1.0              0         0   \n",
       "1              0      0     0             3.0              0         0   \n",
       "2              0      0     0             1.0              0         0   \n",
       "3              0      0     0             1.0              0         0   \n",
       "4              0      0     0             1.0              0         0   \n",
       "5              0      0     0             1.0              0         0   \n",
       "6              0      0     0             1.0              0         0   \n",
       "7              0      0     0             2.0              0         0   \n",
       "8              0      0     0             1.0              0         0   \n",
       "9              0      0     0             1.0              0         0   \n",
       "10             0      0     0             1.0              0         0   \n",
       "11             0      0     0             2.0              0         0   \n",
       "12             0      0     0             1.0              0         0   \n",
       "13             0      0     0             1.0              0         0   \n",
       "14             0      0     0             2.0              0         0   \n",
       "15             0      0     0             2.0              0         0   \n",
       "16             0      0     0             1.0              0         0   \n",
       "17             0      0     0             1.0              0         0   \n",
       "18             0      0     0             1.0              0         0   \n",
       "19             0      0     0             2.0              0         0   \n",
       "20             0      0     0             1.0              0         1   \n",
       "21             0      0     0             2.0              0         0   \n",
       "22             0      0     0             1.0              0         0   \n",
       "23             0      0     0             1.0              0         0   \n",
       "24             0      0     0             1.0              0         0   \n",
       "25             0      0     0             1.0              0         0   \n",
       "26             0      0     0             1.0              0         0   \n",
       "27             0      0     0             4.0              0         0   \n",
       "28             0      0     0             1.0              0         0   \n",
       "29             0      0     0             1.0              0         0   \n",
       "...          ...    ...   ...             ...            ...       ...   \n",
       "155265         0      0     0             1.0              0         0   \n",
       "155266         0      0     0             1.0              0         0   \n",
       "155267         0      0     0             1.0              0         0   \n",
       "155268         0      0     0             2.0              0         0   \n",
       "155269         0      0     0             2.0              0         0   \n",
       "155270         0      0     0             2.0              0         0   \n",
       "155271         0      0     0             4.0              0         0   \n",
       "155272         0      0     0             1.0              0         0   \n",
       "155273         0      0     0             1.0              0         0   \n",
       "155274         0      0     0             2.0              1         1   \n",
       "155275         0      0     0             1.0              0         0   \n",
       "155276         0      0     0             3.0              0         0   \n",
       "155277         0      0     0             1.0              0         0   \n",
       "155278         0      0     0             1.0              0         0   \n",
       "155279         0      0     0             1.0              0         0   \n",
       "155280         0      0     0             1.0              0         0   \n",
       "155281         0      0     0             1.0              0         0   \n",
       "155282         0      0     0             1.0              0         0   \n",
       "155283         0      0     0             1.0              0         0   \n",
       "155284         0      0     0             1.0              0         0   \n",
       "155285         0      0     0             1.0              1         0   \n",
       "155286         0      0     0             1.0              0         0   \n",
       "155287         0      0     0             2.0              0         0   \n",
       "155288         0      0     0             1.0              0         0   \n",
       "155289         0      0     0             2.0              0         0   \n",
       "155290         0      0     0             1.0              0         0   \n",
       "155291         0      0     0             6.0              0         0   \n",
       "155292         0      0     0             1.0              0         0   \n",
       "155293         0      0     0             2.0              0         0   \n",
       "155294         0      0     0             2.0              0         0   \n",
       "\n",
       "        brute force  chinese remainder theorem  combinatorics  \\\n",
       "0                 0                          0              0   \n",
       "1                 1                          0              0   \n",
       "2                 0                          0              0   \n",
       "3                 1                          0              0   \n",
       "4                 0                          0              0   \n",
       "5                 0                          0              0   \n",
       "6                 0                          0              0   \n",
       "7                 0                          0              0   \n",
       "8                 0                          0              0   \n",
       "9                 0                          0              0   \n",
       "10                0                          0              0   \n",
       "11                1                          0              0   \n",
       "12                0                          0              0   \n",
       "13                0                          0              0   \n",
       "14                0                          0              1   \n",
       "15                0                          0              0   \n",
       "16                0                          0              0   \n",
       "17                0                          0              0   \n",
       "18                0                          0              0   \n",
       "19                0                          0              0   \n",
       "20                0                          0              0   \n",
       "21                0                          0              0   \n",
       "22                0                          0              0   \n",
       "23                1                          0              0   \n",
       "24                1                          0              0   \n",
       "25                0                          0              0   \n",
       "26                0                          0              0   \n",
       "27                0                          0              0   \n",
       "28                0                          0              0   \n",
       "29                1                          0              0   \n",
       "...             ...                        ...            ...   \n",
       "155265            0                          0              0   \n",
       "155266            0                          0              0   \n",
       "155267            1                          0              0   \n",
       "155268            0                          0              0   \n",
       "155269            0                          0              0   \n",
       "155270            0                          0              0   \n",
       "155271            0                          0              1   \n",
       "155272            0                          0              0   \n",
       "155273            0                          0              0   \n",
       "155274            0                          0              0   \n",
       "155275            1                          0              0   \n",
       "155276            0                          0              0   \n",
       "155277            0                          0              0   \n",
       "155278            0                          0              0   \n",
       "155279            0                          0              0   \n",
       "155280            0                          0              0   \n",
       "155281            0                          0              0   \n",
       "155282            0                          0              0   \n",
       "155283            0                          0              0   \n",
       "155284            0                          0              0   \n",
       "155285            1                          0              0   \n",
       "155286            0                          0              0   \n",
       "155287            0                          0              0   \n",
       "155288            0                          0              0   \n",
       "155289            0                          0              0   \n",
       "155290            0                          0              0   \n",
       "155291            0                          0              0   \n",
       "155292            0                          0              0   \n",
       "155293            0                          0              0   \n",
       "155294            0                          0              0   \n",
       "\n",
       "        constructive algorithms            ...              submission_count  \\\n",
       "0                             0            ...                            53   \n",
       "1                             0            ...                           133   \n",
       "2                             0            ...                            50   \n",
       "3                             0            ...                           271   \n",
       "4                             0            ...                           155   \n",
       "5                             0            ...                           173   \n",
       "6                             0            ...                           855   \n",
       "7                             0            ...                           254   \n",
       "8                             0            ...                           216   \n",
       "9                             0            ...                           390   \n",
       "10                            0            ...                           439   \n",
       "11                            1            ...                           301   \n",
       "12                            1            ...                           294   \n",
       "13                            0            ...                           652   \n",
       "14                            0            ...                           404   \n",
       "15                            0            ...                            63   \n",
       "16                            0            ...                           753   \n",
       "17                            0            ...                           112   \n",
       "18                            1            ...                            50   \n",
       "19                            0            ...                            58   \n",
       "20                            0            ...                           625   \n",
       "21                            0            ...                           106   \n",
       "22                            0            ...                           273   \n",
       "23                            0            ...                           728   \n",
       "24                            0            ...                           335   \n",
       "25                            0            ...                           273   \n",
       "26                            0            ...                           488   \n",
       "27                            0            ...                           240   \n",
       "28                            0            ...                           286   \n",
       "29                            0            ...                            15   \n",
       "...                         ...            ...                           ...   \n",
       "155265                        0            ...                           217   \n",
       "155266                        0            ...                           105   \n",
       "155267                        1            ...                           894   \n",
       "155268                        0            ...                           153   \n",
       "155269                        0            ...                           187   \n",
       "155270                        0            ...                           155   \n",
       "155271                        0            ...                           452   \n",
       "155272                        0            ...                           239   \n",
       "155273                        0            ...                           122   \n",
       "155274                        1            ...                           791   \n",
       "155275                        0            ...                            96   \n",
       "155276                        1            ...                           108   \n",
       "155277                        0            ...                           141   \n",
       "155278                        0            ...                           557   \n",
       "155279                        1            ...                           148   \n",
       "155280                        0            ...                           127   \n",
       "155281                        0            ...                            86   \n",
       "155282                        0            ...                           523   \n",
       "155283                        0            ...                          1786   \n",
       "155284                        0            ...                           219   \n",
       "155285                        0            ...                           253   \n",
       "155286                        1            ...                           156   \n",
       "155287                        0            ...                           721   \n",
       "155288                        1            ...                           280   \n",
       "155289                        0            ...                            45   \n",
       "155290                        0            ...                           226   \n",
       "155291                        0            ...                           583   \n",
       "155292                        0            ...                           138   \n",
       "155293                        1            ...                           185   \n",
       "155294                        0            ...                          1356   \n",
       "\n",
       "        problem_solved  contribution      country  follower_count  \\\n",
       "0                   47             0   Bangladesh               1   \n",
       "1                  118             0          NaN               0   \n",
       "2                   44             0          NaN               7   \n",
       "3                  233            23    Indonesia              40   \n",
       "4                  135             0        India              80   \n",
       "5                  161             0          NaN              21   \n",
       "6                  811             0        Egypt              87   \n",
       "7                  217             0       Brazil              21   \n",
       "8                  199             0        India              28   \n",
       "9                  350             0   Bangladesh              56   \n",
       "10                 426             0        China              21   \n",
       "11                 227             0      Vietnam              27   \n",
       "12                 268             0      Romania              35   \n",
       "13                 595            20      Czechia             132   \n",
       "14                 382             0   Bangladesh             351   \n",
       "15                  46             0          NaN               8   \n",
       "16                 697             0        Spain              36   \n",
       "17                  97             0        India               5   \n",
       "18                  45             0        Japan               1   \n",
       "19                  51             0          NaN               0   \n",
       "20                 536           152       Russia            1054   \n",
       "21                  93             0          NaN              13   \n",
       "22                 218            -2   Bangladesh              76   \n",
       "23                 691            13        India             135   \n",
       "24                 314             0        India              12   \n",
       "25                 247             0       Russia              31   \n",
       "26                 412             6      Ukraine              58   \n",
       "27                 218             0   Bangladesh              50   \n",
       "28                 264            11      Romania              50   \n",
       "29                   8             0          NaN               0   \n",
       "...                ...           ...          ...             ...   \n",
       "155265             199             0        India              19   \n",
       "155266              85             0        India              37   \n",
       "155267             855             0        Egypt              17   \n",
       "155268             111             0          NaN               6   \n",
       "155269             186             0          NaN               2   \n",
       "155270             135             0        India              80   \n",
       "155271             425           -18   Bangladesh              32   \n",
       "155272             202             0        India              54   \n",
       "155273             107             0       Russia              17   \n",
       "155274             738            -1      Germany               0   \n",
       "155275              75             0          NaN               1   \n",
       "155276              82             0   Bangladesh              16   \n",
       "155277             107             0        India              15   \n",
       "155278             458             7        India              30   \n",
       "155279             122             0          NaN               5   \n",
       "155280             107            -7        India               3   \n",
       "155281              71             0          NaN               0   \n",
       "155282             433             0   Kazakhstan              54   \n",
       "155283            1701             6         Peru             180   \n",
       "155284             203             0   Bangladesh              47   \n",
       "155285             240           124  Philippines              84   \n",
       "155286             116             0          NaN               2   \n",
       "155287             661             7   Bangladesh             206   \n",
       "155288             251             0        Egypt               8   \n",
       "155289              31             0        India               1   \n",
       "155290             200             0        India              17   \n",
       "155291             519           -17   Bangladesh              70   \n",
       "155292             117             0        India              13   \n",
       "155293             148             0          NaN               1   \n",
       "155294            1186             6   Kazakhstan             250   \n",
       "\n",
       "        last_online_time_seconds  max_rating   rating          rank  \\\n",
       "0                     1503633778     307.913  206.709      beginner   \n",
       "1                     1502200122     324.255  235.378      beginner   \n",
       "2                     1504719542     343.177  229.358      beginner   \n",
       "3                     1505175115     436.927  399.083  intermediate   \n",
       "4                     1505421849     492.546  472.190      advanced   \n",
       "5                     1504870431     462.729  462.729      advanced   \n",
       "6                     1505561409     398.222  368.979  intermediate   \n",
       "7                     1505581625     433.486  395.356  intermediate   \n",
       "8                     1505534677     387.328  387.328  intermediate   \n",
       "9                     1505556770     315.367  217.890      beginner   \n",
       "10                    1505555602     524.656  505.447      advanced   \n",
       "11                    1504604213     467.030  337.156  intermediate   \n",
       "12                    1505035867     475.631  475.631      advanced   \n",
       "13                    1505589460     655.677  577.695      advanced   \n",
       "14                    1505564922     471.330  471.330      advanced   \n",
       "15                    1485290430     315.654  286.411      beginner   \n",
       "16                    1505338257     497.420  479.644      advanced   \n",
       "17                    1505550351     320.528  295.298      beginner   \n",
       "18                    1494402344     440.654  440.654  intermediate   \n",
       "19                    1505552744     330.275  262.901      beginner   \n",
       "20                    1505583926     778.670  770.069        expert   \n",
       "21                    1505560570     413.704  394.209  intermediate   \n",
       "22                    1504959860     313.647  258.888      beginner   \n",
       "23                    1505475218     442.661  415.998  intermediate   \n",
       "24                    1501138300     391.628  391.628  intermediate   \n",
       "25                    1502089475     482.798  479.931      advanced   \n",
       "26                    1504107513     493.979  461.869      advanced   \n",
       "27                    1505252563     319.954  291.284      beginner   \n",
       "28                    1505404965     464.736  422.305  intermediate   \n",
       "29                    1490814904     307.913  260.894      beginner   \n",
       "...                          ...         ...      ...           ...   \n",
       "155265                1502307905     315.940  262.041      beginner   \n",
       "155266                1502782050     393.922  393.922  intermediate   \n",
       "155267                1505527406     325.975  292.718      beginner   \n",
       "155268                1505510970     307.626  243.119      beginner   \n",
       "155269                1505550515     327.695  327.695  intermediate   \n",
       "155270                1505421849     492.546  472.190      advanced   \n",
       "155271                1505562898     314.220  263.188      beginner   \n",
       "155272                1495000704     378.154  346.044  intermediate   \n",
       "155273                1505039275     559.060  559.060      advanced   \n",
       "155274                1503408876     367.833  321.674  intermediate   \n",
       "155275                1504893469     325.688  257.454      beginner   \n",
       "155276                1505226083     308.200  213.303      beginner   \n",
       "155277                1505561105     368.406  356.365  intermediate   \n",
       "155278                1505573438     325.115  325.115  intermediate   \n",
       "155279                1505579574     313.933  231.078      beginner   \n",
       "155280                1502733152     304.759  222.764      beginner   \n",
       "155281                1505311224     385.034  292.144      beginner   \n",
       "155282                1505468409     428.612  420.872  intermediate   \n",
       "155283                1505100251     476.491  476.491      advanced   \n",
       "155284                1505292870     314.794  268.635      beginner   \n",
       "155285                1505563580     605.218  605.218        expert   \n",
       "155286                1502554787     391.342  388.188  intermediate   \n",
       "155287                1504941017     390.768  366.112  intermediate   \n",
       "155288                1505564291     317.374  287.844      beginner   \n",
       "155289                1498710446     304.759  192.661      beginner   \n",
       "155290                1505584042     360.378  329.415  intermediate   \n",
       "155291                1505517523     327.122  286.411      beginner   \n",
       "155292                1504944103     318.807  252.007      beginner   \n",
       "155293                1486101965     317.661  259.748      beginner   \n",
       "155294                1505576413     506.021  492.259      advanced   \n",
       "\n",
       "        registration_time_seconds  \n",
       "0                      1432110935  \n",
       "1                      1454664414  \n",
       "2                      1473490873  \n",
       "3                      1447736644  \n",
       "4                      1437724657  \n",
       "5                      1480812045  \n",
       "6                      1439756111  \n",
       "7                      1464182831  \n",
       "8                      1443374825  \n",
       "9                      1384505273  \n",
       "10                     1473818621  \n",
       "11                     1413472596  \n",
       "12                     1394801704  \n",
       "13                     1264978137  \n",
       "14                     1401604903  \n",
       "15                     1433181713  \n",
       "16                     1361908706  \n",
       "17                     1474378098  \n",
       "18                     1479664011  \n",
       "19                     1480086231  \n",
       "20                     1278517887  \n",
       "21                     1466175804  \n",
       "22                     1446995678  \n",
       "23                     1438803475  \n",
       "24                     1419955527  \n",
       "25                     1425050679  \n",
       "26                     1328857430  \n",
       "27                     1385471472  \n",
       "28                     1439111687  \n",
       "29                     1449672047  \n",
       "...                           ...  \n",
       "155265                 1470933682  \n",
       "155266                 1481711057  \n",
       "155267                 1471348164  \n",
       "155268                 1475344896  \n",
       "155269                 1419402256  \n",
       "155270                 1437724657  \n",
       "155271                 1439216619  \n",
       "155272                 1438088365  \n",
       "155273                 1460742540  \n",
       "155274                 1424981753  \n",
       "155275                 1457365306  \n",
       "155276                 1437283525  \n",
       "155277                 1471885846  \n",
       "155278                 1473506681  \n",
       "155279                 1476280641  \n",
       "155280                 1469444000  \n",
       "155281                 1385060478  \n",
       "155282                 1433404437  \n",
       "155283                 1326486683  \n",
       "155284                 1416242285  \n",
       "155285                 1405745368  \n",
       "155286                 1446311259  \n",
       "155287                 1413561746  \n",
       "155288                 1386621378  \n",
       "155289                 1452970505  \n",
       "155290                 1469909800  \n",
       "155291                 1446655021  \n",
       "155292                 1470375263  \n",
       "155293                 1449598352  \n",
       "155294                 1322910262  \n",
       "\n",
       "[155295 rows x 52 columns]"
      ]
     },
     "execution_count": 39,
     "metadata": {},
     "output_type": "execute_result"
    }
   ],
   "source": [
    "submission_train_data"
   ]
  },
  {
   "cell_type": "code",
   "execution_count": 41,
   "metadata": {
    "collapsed": true
   },
   "outputs": [],
   "source": [
    "# Adding problem_features according to the index of problem_id"
   ]
  },
  {
   "cell_type": "code",
   "execution_count": 42,
   "metadata": {
    "collapsed": true
   },
   "outputs": [],
   "source": [
    "prob_predictors=(problem_train_data.columns[problem_train_data.columns!='problem_id'])\n"
   ]
  },
  {
   "cell_type": "code",
   "execution_count": 43,
   "metadata": {
    "collapsed": false
   },
   "outputs": [
    {
     "data": {
      "text/plain": [
       "Index([u'level_type', u'points', u'tags'], dtype='object')"
      ]
     },
     "execution_count": 43,
     "metadata": {},
     "output_type": "execute_result"
    }
   ],
   "source": [
    "prob_predictors\n",
    "\n",
    "submission_train_data['points']=submission_train_data['problem_id'].map(problem_train_data.set_index('problem_id')['points'])\n",
    "\n",
    "submission_train_data.shape"
   ]
  },
  {
   "cell_type": "code",
   "execution_count": 46,
   "metadata": {
    "collapsed": false
   },
   "outputs": [
    {
     "data": {
      "text/plain": [
       "10"
      ]
     },
     "execution_count": 46,
     "metadata": {},
     "output_type": "execute_result"
    }
   ],
   "source": [
    "len(user_predictors)"
   ]
  },
  {
   "cell_type": "code",
   "execution_count": 47,
   "metadata": {
    "collapsed": true
   },
   "outputs": [],
   "source": [
    "# Adding features in the test data"
   ]
  },
  {
   "cell_type": "code",
   "execution_count": 210,
   "metadata": {
    "collapsed": true
   },
   "outputs": [],
   "source": [
    "for column in user_predictors:\n",
    "    X_test[column]=X_test['user_id'].map(user_train_data.set_index('user_id')[column])"
   ]
  },
  {
   "cell_type": "code",
   "execution_count": 211,
   "metadata": {
    "collapsed": true
   },
   "outputs": [],
   "source": [
    "X_test['points']=X_test['problem_id'].map(problem_train_data.set_index('problem_id')['points'])\n"
   ]
  },
  {
   "cell_type": "code",
   "execution_count": 212,
   "metadata": {
    "collapsed": false
   },
   "outputs": [
    {
     "data": {
      "text/plain": [
       "(66555, 53)"
      ]
     },
     "execution_count": 212,
     "metadata": {},
     "output_type": "execute_result"
    }
   ],
   "source": [
    "X_test.shape"
   ]
  },
  {
   "cell_type": "code",
   "execution_count": 71,
   "metadata": {
    "collapsed": false
   },
   "outputs": [
    {
     "data": {
      "text/plain": [
       "['*special',\n",
       " '2-sat',\n",
       " 'attempts_range',\n",
       " 'binary search',\n",
       " 'bitmasks',\n",
       " 'brute force',\n",
       " 'chinese remainder theorem',\n",
       " 'combinatorics',\n",
       " 'constructive algorithms',\n",
       " 'data structures',\n",
       " 'dfs and similar',\n",
       " 'divide and conquer',\n",
       " 'dp',\n",
       " 'dsu',\n",
       " 'expression parsing',\n",
       " 'fft',\n",
       " 'flows',\n",
       " 'games',\n",
       " 'geometry',\n",
       " 'graph matchings',\n",
       " 'graphs',\n",
       " 'greedy',\n",
       " 'hashing',\n",
       " 'implementation',\n",
       " 'math',\n",
       " 'matrices',\n",
       " 'meet-in-the-middle',\n",
       " 'number theory',\n",
       " 'probabilities',\n",
       " 'problem_id',\n",
       " 'schedules',\n",
       " 'shortest paths',\n",
       " 'sortings',\n",
       " 'string suffix structures',\n",
       " 'strings',\n",
       " 'tags',\n",
       " 'ternary search',\n",
       " 'trees',\n",
       " 'two pointers',\n",
       " 'user_id',\n",
       " 'submission_count',\n",
       " 'problem_solved',\n",
       " 'contribution',\n",
       " 'country',\n",
       " 'follower_count',\n",
       " 'last_online_time_seconds',\n",
       " 'max_rating',\n",
       " 'rating',\n",
       " 'rank',\n",
       " 'registration_time_seconds',\n",
       " 'points']"
      ]
     },
     "execution_count": 71,
     "metadata": {},
     "output_type": "execute_result"
    }
   ],
   "source": [
    "list(submission_train_data)"
   ]
  },
  {
   "cell_type": "code",
   "execution_count": 54,
   "metadata": {
    "collapsed": false
   },
   "outputs": [],
   "source": [
    "y_train=submission_train_data['attempts_range']"
   ]
  },
  {
   "cell_type": "code",
   "execution_count": 213,
   "metadata": {
    "collapsed": false
   },
   "outputs": [],
   "source": [
    "X_test=X_test.drop('ID',1)"
   ]
  },
  {
   "cell_type": "code",
   "execution_count": 59,
   "metadata": {
    "collapsed": true
   },
   "outputs": [],
   "source": [
    "# drop the  NAN column from both X_test and train "
   ]
  },
  {
   "cell_type": "code",
   "execution_count": 65,
   "metadata": {
    "collapsed": false
   },
   "outputs": [],
   "source": [
    "submission_train_data=submission_train_data.drop('None',1)"
   ]
  },
  {
   "cell_type": "code",
   "execution_count": 214,
   "metadata": {
    "collapsed": false
   },
   "outputs": [],
   "source": [
    "X_test=X_test.drop('None',1)"
   ]
  },
  {
   "cell_type": "code",
   "execution_count": 215,
   "metadata": {
    "collapsed": false
   },
   "outputs": [
    {
     "data": {
      "text/plain": [
       "(66555, 51)"
      ]
     },
     "execution_count": 215,
     "metadata": {},
     "output_type": "execute_result"
    }
   ],
   "source": [
    "X_test.shape"
   ]
  },
  {
   "cell_type": "code",
   "execution_count": 72,
   "metadata": {
    "collapsed": false
   },
   "outputs": [
    {
     "data": {
      "text/plain": [
       "(155295, 51)"
      ]
     },
     "execution_count": 72,
     "metadata": {},
     "output_type": "execute_result"
    }
   ],
   "source": [
    "submission_train_data.shape"
   ]
  },
  {
   "cell_type": "markdown",
   "metadata": {},
   "source": [
    "# A simple Xgboost without any external features"
   ]
  },
  {
   "cell_type": "code",
   "execution_count": 74,
   "metadata": {
    "collapsed": false
   },
   "outputs": [],
   "source": [
    "import xgboost as xgb\n",
    "#from xgboost.sklearn import XGBClassifier\n",
    "#from sklearn import cross_validation, metrics \n",
    "params = {\n",
    "    'eta': 0.05,\n",
    "    'max_depth': 5,\n",
    "    'subsample': 0.7,\n",
    "    'colsample_bytree': 0.7,\n",
    "    'objective': 'multi:softmax',\n",
    "    'scoring': 'accuracy',\n",
    "    'silent': 0\n",
    "}\n",
    "\n",
    "params['num_class']=7"
   ]
  },
  {
   "cell_type": "code",
   "execution_count": 136,
   "metadata": {
    "collapsed": true
   },
   "outputs": [],
   "source": [
    "# drop the problem and the user id \n",
    "\n",
    "#x_test_data=X_test.drop(['user_id','problem_id'],1)"
   ]
  },
  {
   "cell_type": "code",
   "execution_count": 137,
   "metadata": {
    "collapsed": false
   },
   "outputs": [],
   "source": []
  },
  {
   "cell_type": "code",
   "execution_count": 91,
   "metadata": {
    "collapsed": true
   },
   "outputs": [],
   "source": [
    "submission_data=submission_data.drop(['attempts_range'],1)\n"
   ]
  },
  {
   "cell_type": "code",
   "execution_count": 79,
   "metadata": {
    "collapsed": false
   },
   "outputs": [
    {
     "name": "stdout",
     "output_type": "stream",
     "text": [
      "[0]\ttrain-merror:0.462301+0.000795051\ttest-merror:0.463627+0.00234471\n",
      "[10]\ttrain-merror:0.46336+0.000611267\ttest-merror:0.464329+0.00292572\n",
      "[20]\ttrain-merror:0.462747+0.000478883\ttest-merror:0.464407+0.00272816\n",
      "[30]\ttrain-merror:0.461895+0.000609727\ttest-merror:0.46402+0.00275946\n",
      "[40]\ttrain-merror:0.460915+0.000623776\ttest-merror:0.463228+0.00247287\n",
      "[50]\ttrain-merror:0.46005+0.000434874\ttest-merror:0.463086+0.00225525\n",
      "[60]\ttrain-merror:0.459128+0.000781593\ttest-merror:0.462713+0.00222803\n",
      "[70]\ttrain-merror:0.458173+0.000933128\ttest-merror:0.462204+0.00222875\n",
      "[80]\ttrain-merror:0.457375+0.000976954\ttest-merror:0.461818+0.00206345\n",
      "[90]\ttrain-merror:0.456452+0.000917569\ttest-merror:0.46176+0.00199392\n"
     ]
    }
   ],
   "source": [
    "bst = xgb.cv(params, dtrain, num_boost_round=100, early_stopping_rounds=40,nfold=5L,verbose_eval=10)"
   ]
  },
  {
   "cell_type": "code",
   "execution_count": 86,
   "metadata": {
    "collapsed": true
   },
   "outputs": [],
   "source": [
    "# after adding till follower frequency"
   ]
  },
  {
   "cell_type": "code",
   "execution_count": 94,
   "metadata": {
    "collapsed": false
   },
   "outputs": [
    {
     "name": "stdout",
     "output_type": "stream",
     "text": [
      "[0]\ttrain-merror:0.463846+0.000666346\ttest-merror:0.465308+0.00211105\n",
      "[10]\ttrain-merror:0.463666+0.00071978\ttest-merror:0.46487+0.00195817\n",
      "[20]\ttrain-merror:0.462447+0.000809169\ttest-merror:0.464168+0.00198312\n",
      "[30]\ttrain-merror:0.461776+0.000936433\ttest-merror:0.463717+0.00240516\n",
      "[40]\ttrain-merror:0.461051+0.000706568\ttest-merror:0.463395+0.00253762\n",
      "[50]\ttrain-merror:0.460184+0.000664775\ttest-merror:0.462874+0.00249212\n",
      "[60]\ttrain-merror:0.459212+0.000591094\ttest-merror:0.462597+0.00234265\n",
      "[70]\ttrain-merror:0.458172+0.000641366\ttest-merror:0.462166+0.00209666\n",
      "[80]\ttrain-merror:0.457289+0.000743144\ttest-merror:0.461889+0.00233581\n",
      "[90]\ttrain-merror:0.456319+0.000820374\ttest-merror:0.461547+0.00231777\n"
     ]
    }
   ],
   "source": [
    "bst = xgb.cv(params, dtrain, num_boost_round=100, early_stopping_rounds=40,nfold=5L,verbose_eval=10)"
   ]
  },
  {
   "cell_type": "code",
   "execution_count": 105,
   "metadata": {
    "collapsed": false
   },
   "outputs": [
    {
     "name": "stdout",
     "output_type": "stream",
     "text": [
      "[0]\ttrain-merror:0.463714+0.000564896\ttest-merror:0.465134+0.00212644\n",
      "[10]\ttrain-merror:0.463861+0.00134521\ttest-merror:0.465179+0.00240838\n",
      "[20]\ttrain-merror:0.462876+0.000822793\ttest-merror:0.464748+0.00244844\n",
      "[30]\ttrain-merror:0.462035+0.000780212\ttest-merror:0.464033+0.00242621\n",
      "[40]\ttrain-merror:0.461074+0.000729682\ttest-merror:0.46366+0.00245158\n",
      "[50]\ttrain-merror:0.460084+0.000609252\ttest-merror:0.463009+0.00238073\n",
      "[60]\ttrain-merror:0.459104+0.000673754\ttest-merror:0.462603+0.00222985\n",
      "[70]\ttrain-merror:0.458127+0.000716886\ttest-merror:0.462204+0.00235421\n",
      "[80]\ttrain-merror:0.457078+0.000980225\ttest-merror:0.461618+0.00237755\n",
      "[90]\ttrain-merror:0.456306+0.000898972\ttest-merror:0.461412+0.00258528\n"
     ]
    }
   ],
   "source": [
    "bst = xgb.cv(params, dtrain, num_boost_round=100, early_stopping_rounds=40,nfold=5L,verbose_eval=10)"
   ]
  },
  {
   "cell_type": "code",
   "execution_count": 138,
   "metadata": {
    "collapsed": false
   },
   "outputs": [
    {
     "name": "stdout",
     "output_type": "stream",
     "text": [
      "[0]\ttrain-merror:0.463879+0.000788239\ttest-merror:0.464838+0.00316826\n",
      "[10]\ttrain-merror:0.46347+0.000815404\ttest-merror:0.464748+0.00226449\n",
      "[20]\ttrain-merror:0.462682+0.000736459\ttest-merror:0.464052+0.00268188\n",
      "[30]\ttrain-merror:0.461697+0.00064403\ttest-merror:0.463602+0.0025157\n",
      "[40]\ttrain-merror:0.460783+0.0006999\ttest-merror:0.46299+0.00247131\n",
      "[50]\ttrain-merror:0.459905+0.000742975\ttest-merror:0.46281+0.00230256\n",
      "[60]\ttrain-merror:0.458777+0.000704877\ttest-merror:0.462629+0.00226423\n",
      "[70]\ttrain-merror:0.457845+0.000659728\ttest-merror:0.462108+0.00224424\n",
      "[80]\ttrain-merror:0.45685+0.000616323\ttest-merror:0.46174+0.00226464\n",
      "[90]\ttrain-merror:0.455906+0.000556847\ttest-merror:0.461444+0.00245492\n"
     ]
    }
   ],
   "source": [
    "bst = xgb.cv(params, dtrain, num_boost_round=100, early_stopping_rounds=40,nfold=5L,verbose_eval=10)"
   ]
  },
  {
   "cell_type": "markdown",
   "metadata": {},
   "source": [
    "# Feature engineering "
   ]
  },
  {
   "cell_type": "code",
   "execution_count": 81,
   "metadata": {
    "collapsed": true
   },
   "outputs": [],
   "source": [
    "submission_train_data['growth']=abs(submission_train_data['rating']-submission_train_data['max_rating'])\n",
    "\n",
    "submission_train_data['brilliant']=submission_train_data['growth'].apply(lambda x: 1 if x>=200 else 0)\n",
    "\n"
   ]
  },
  {
   "cell_type": "code",
   "execution_count": 216,
   "metadata": {
    "collapsed": true
   },
   "outputs": [],
   "source": [
    "X_test['growth']=abs(X_test['rating']-X_test['max_rating'])\n",
    "\n",
    "X_test['brilliant']=X_test['growth'].apply(lambda x: 1 if x>=200 else 0)\n",
    "\n"
   ]
  },
  {
   "cell_type": "code",
   "execution_count": 84,
   "metadata": {
    "collapsed": false
   },
   "outputs": [],
   "source": [
    "submission_train_data['contribution_frequency']=submission_train_data['contribution']/submission_train_data['registration_time_seconds']\n",
    "submission_train_data['contribution_per_submission']=submission_train_data['contribution']/submission_train_data['problem_solved']\n",
    "\n",
    "submission_train_data['follower_frequency']=submission_train_data['follower_count']/submission_train_data['registration_time_seconds']"
   ]
  },
  {
   "cell_type": "code",
   "execution_count": 217,
   "metadata": {
    "collapsed": true
   },
   "outputs": [],
   "source": [
    "X_test['contribution_frequency']=X_test['contribution']/X_test['registration_time_seconds']\n",
    "X_test['contribution_per_submission']=X_test['contribution']/X_test['problem_solved']\n",
    "\n",
    "X_test['follower_frequency']=X_test['follower_count']/X_test['registration_time_seconds']"
   ]
  },
  {
   "cell_type": "code",
   "execution_count": 95,
   "metadata": {
    "collapsed": true
   },
   "outputs": [],
   "source": [
    "submission_train_data['sol_accuracy']=submission_train_data['problem_solved']/submission_train_data['submission_count']"
   ]
  },
  {
   "cell_type": "code",
   "execution_count": 218,
   "metadata": {
    "collapsed": true
   },
   "outputs": [],
   "source": [
    "X_test['sol_accuracy']=X_test['problem_solved']/X_test['submission_count']"
   ]
  },
  {
   "cell_type": "code",
   "execution_count": 101,
   "metadata": {
    "collapsed": true
   },
   "outputs": [],
   "source": [
    "#problems per day "
   ]
  },
  {
   "cell_type": "code",
   "execution_count": 102,
   "metadata": {
    "collapsed": true
   },
   "outputs": [],
   "source": [
    "submission_train_data['solver_frequency']=submission_train_data['problem_solved']/submission_train_data['registration_time_seconds']"
   ]
  },
  {
   "cell_type": "code",
   "execution_count": 106,
   "metadata": {
    "collapsed": true
   },
   "outputs": [],
   "source": [
    "# the ratio of problem difficulty and user_rank may be a very good estimator"
   ]
  },
  {
   "cell_type": "code",
   "execution_count": 109,
   "metadata": {
    "collapsed": false
   },
   "outputs": [],
   "source": [
    "submission_train_data['rank']=submission_train_data['user_id'].map(user_train_data.set_index('user_id')['rank'])"
   ]
  },
  {
   "cell_type": "code",
   "execution_count": 122,
   "metadata": {
    "collapsed": false
   },
   "outputs": [],
   "source": [
    "counts=submission_train_data['rank'].value_counts"
   ]
  },
  {
   "cell_type": "code",
   "execution_count": 125,
   "metadata": {
    "collapsed": false
   },
   "outputs": [
    {
     "data": {
      "text/plain": [
       "{'advanced', 'beginner', 'expert', 'intermediate'}"
      ]
     },
     "execution_count": 125,
     "metadata": {},
     "output_type": "execute_result"
    }
   ],
   "source": [
    "set(submission_train_data['rank'])"
   ]
  },
  {
   "cell_type": "code",
   "execution_count": 126,
   "metadata": {
    "collapsed": true
   },
   "outputs": [],
   "source": [
    "#Replace according to the level"
   ]
  },
  {
   "cell_type": "code",
   "execution_count": 129,
   "metadata": {
    "collapsed": false
   },
   "outputs": [],
   "source": [
    "submission_train_data['rank']=submission_train_data['rank'].replace('advanced',4)"
   ]
  },
  {
   "cell_type": "code",
   "execution_count": 130,
   "metadata": {
    "collapsed": true
   },
   "outputs": [],
   "source": [
    "submission_train_data['rank']=submission_train_data['rank'].replace('advanced',4)\n",
    "submission_train_data['rank']=submission_train_data['rank'].replace('expert',3)\n",
    "submission_train_data['rank']=submission_train_data['rank'].replace('intermediate',2)\n",
    "submission_train_data['rank']=submission_train_data['rank'].replace('beginner',1)"
   ]
  },
  {
   "cell_type": "code",
   "execution_count": 131,
   "metadata": {
    "collapsed": true
   },
   "outputs": [],
   "source": [
    "submission_train_data['ratio']=submission_train_data['points']/submission_train_data['rank']"
   ]
  },
  {
   "cell_type": "code",
   "execution_count": 135,
   "metadata": {
    "collapsed": false
   },
   "outputs": [
    {
     "data": {
      "text/plain": [
       "0         1\n",
       "1         1\n",
       "2         1\n",
       "3         2\n",
       "4         4\n",
       "5         4\n",
       "6         2\n",
       "7         2\n",
       "8         2\n",
       "9         1\n",
       "10        4\n",
       "11        2\n",
       "12        4\n",
       "13        4\n",
       "14        4\n",
       "15        1\n",
       "16        4\n",
       "17        1\n",
       "18        2\n",
       "19        1\n",
       "20        3\n",
       "21        2\n",
       "22        1\n",
       "23        2\n",
       "24        2\n",
       "25        4\n",
       "26        4\n",
       "27        1\n",
       "28        2\n",
       "29        1\n",
       "         ..\n",
       "155265    1\n",
       "155266    2\n",
       "155267    1\n",
       "155268    1\n",
       "155269    2\n",
       "155270    4\n",
       "155271    1\n",
       "155272    2\n",
       "155273    4\n",
       "155274    2\n",
       "155275    1\n",
       "155276    1\n",
       "155277    2\n",
       "155278    2\n",
       "155279    1\n",
       "155280    1\n",
       "155281    1\n",
       "155282    2\n",
       "155283    4\n",
       "155284    1\n",
       "155285    3\n",
       "155286    2\n",
       "155287    2\n",
       "155288    1\n",
       "155289    1\n",
       "155290    2\n",
       "155291    1\n",
       "155292    1\n",
       "155293    1\n",
       "155294    4\n",
       "Name: rank, Length: 155295, dtype: int64"
      ]
     },
     "execution_count": 135,
     "metadata": {},
     "output_type": "execute_result"
    }
   ],
   "source": [
    "submission_train_data['rank']"
   ]
  },
  {
   "cell_type": "code",
   "execution_count": 132,
   "metadata": {
    "collapsed": false
   },
   "outputs": [
    {
     "data": {
      "text/plain": [
       "0         1000.000000\n",
       "1         1500.000000\n",
       "2          500.000000\n",
       "3          250.000000\n",
       "4          500.000000\n",
       "5          500.000000\n",
       "6          500.000000\n",
       "7          500.000000\n",
       "8                 NaN\n",
       "9         1000.000000\n",
       "10         375.000000\n",
       "11         750.000000\n",
       "12         250.000000\n",
       "13         125.000000\n",
       "14                NaN\n",
       "15        1500.000000\n",
       "16                NaN\n",
       "17         500.000000\n",
       "18         250.000000\n",
       "19                NaN\n",
       "20         833.333333\n",
       "21         250.000000\n",
       "22        2000.000000\n",
       "23                NaN\n",
       "24         250.000000\n",
       "25         250.000000\n",
       "26                NaN\n",
       "27                NaN\n",
       "28         750.000000\n",
       "29        1000.000000\n",
       "             ...     \n",
       "155265            NaN\n",
       "155266     375.000000\n",
       "155267    1500.000000\n",
       "155268     500.000000\n",
       "155269     875.000000\n",
       "155270     375.000000\n",
       "155271    1000.000000\n",
       "155272     500.000000\n",
       "155273     125.000000\n",
       "155274     500.000000\n",
       "155275     500.000000\n",
       "155276    1000.000000\n",
       "155277     250.000000\n",
       "155278    1000.000000\n",
       "155279    1000.000000\n",
       "155280     500.000000\n",
       "155281     500.000000\n",
       "155282    1500.000000\n",
       "155283     375.000000\n",
       "155284     500.000000\n",
       "155285     166.666667\n",
       "155286     500.000000\n",
       "155287     250.000000\n",
       "155288    1000.000000\n",
       "155289    1000.000000\n",
       "155290     250.000000\n",
       "155291    2500.000000\n",
       "155292    1500.000000\n",
       "155293    1000.000000\n",
       "155294            NaN\n",
       "Name: ratio, Length: 155295, dtype: float64"
      ]
     },
     "execution_count": 132,
     "metadata": {},
     "output_type": "execute_result"
    }
   ],
   "source": [
    "submission_train_data['ratio']"
   ]
  },
  {
   "cell_type": "code",
   "execution_count": null,
   "metadata": {
    "collapsed": true
   },
   "outputs": [],
   "source": [
    "# load the test data"
   ]
  },
  {
   "cell_type": "code",
   "execution_count": 139,
   "metadata": {
    "collapsed": true
   },
   "outputs": [],
   "source": [
    "test_data=pd.read_csv('train/test_submissions_NeDLEvX.csv')"
   ]
  },
  {
   "cell_type": "code",
   "execution_count": 219,
   "metadata": {
    "collapsed": false
   },
   "outputs": [],
   "source": [
    "X_test['solver_frequency']=X_test['problem_solved']/X_test['registration_time_seconds']"
   ]
  },
  {
   "cell_type": "code",
   "execution_count": 220,
   "metadata": {
    "collapsed": false
   },
   "outputs": [],
   "source": [
    "X_test['rank']=X_test['user_id'].map(user_train_data.set_index('user_id')['rank'])"
   ]
  },
  {
   "cell_type": "code",
   "execution_count": 221,
   "metadata": {
    "collapsed": true
   },
   "outputs": [],
   "source": [
    "X_test['rank']=X_test['rank'].replace('advanced',4)\n",
    "X_test['rank']=X_test['rank'].replace('expert',3)\n",
    "X_test['rank']=X_test['rank'].replace('intermediate',2)\n",
    "X_test['rank']=X_test['rank'].replace('beginner',1)"
   ]
  },
  {
   "cell_type": "code",
   "execution_count": 144,
   "metadata": {
    "collapsed": false
   },
   "outputs": [],
   "source": [
    "submit_data=pd.read_csv('train/sample_submissions_wbscxqU.csv')"
   ]
  },
  {
   "cell_type": "code",
   "execution_count": 222,
   "metadata": {
    "collapsed": true
   },
   "outputs": [],
   "source": [
    "X_test['ratio']=X_test['points']/X_test['rank']"
   ]
  },
  {
   "cell_type": "code",
   "execution_count": 223,
   "metadata": {
    "collapsed": false
   },
   "outputs": [
    {
     "data": {
      "text/plain": [
       "(66555, 59)"
      ]
     },
     "execution_count": 223,
     "metadata": {},
     "output_type": "execute_result"
    }
   ],
   "source": [
    "X_test.shape"
   ]
  },
  {
   "cell_type": "code",
   "execution_count": 227,
   "metadata": {
    "collapsed": false
   },
   "outputs": [],
   "source": [
    "X_test=X_test.drop('nan',1)"
   ]
  },
  {
   "cell_type": "code",
   "execution_count": 228,
   "metadata": {
    "collapsed": false
   },
   "outputs": [
    {
     "data": {
      "text/plain": [
       "['*special',\n",
       " '2-sat',\n",
       " 'binary search',\n",
       " 'bitmasks',\n",
       " 'brute force',\n",
       " 'chinese remainder theorem',\n",
       " 'combinatorics',\n",
       " 'constructive algorithms',\n",
       " 'data structures',\n",
       " 'dfs and similar',\n",
       " 'divide and conquer',\n",
       " 'dp',\n",
       " 'dsu',\n",
       " 'expression parsing',\n",
       " 'fft',\n",
       " 'flows',\n",
       " 'games',\n",
       " 'geometry',\n",
       " 'graph matchings',\n",
       " 'graphs',\n",
       " 'greedy',\n",
       " 'hashing',\n",
       " 'implementation',\n",
       " 'math',\n",
       " 'matrices',\n",
       " 'meet-in-the-middle',\n",
       " 'number theory',\n",
       " 'probabilities',\n",
       " 'problem_id',\n",
       " 'schedules',\n",
       " 'shortest paths',\n",
       " 'sortings',\n",
       " 'string suffix structures',\n",
       " 'strings',\n",
       " 'tags',\n",
       " 'ternary search',\n",
       " 'trees',\n",
       " 'two pointers',\n",
       " 'user_id',\n",
       " 'submission_count',\n",
       " 'problem_solved',\n",
       " 'contribution',\n",
       " 'country',\n",
       " 'follower_count',\n",
       " 'last_online_time_seconds',\n",
       " 'max_rating',\n",
       " 'rating',\n",
       " 'rank',\n",
       " 'registration_time_seconds',\n",
       " 'points',\n",
       " 'growth',\n",
       " 'brilliant',\n",
       " 'contribution_frequency',\n",
       " 'contribution_per_submission',\n",
       " 'follower_frequency',\n",
       " 'sol_accuracy',\n",
       " 'solver_frequency',\n",
       " 'ratio']"
      ]
     },
     "execution_count": 228,
     "metadata": {},
     "output_type": "execute_result"
    }
   ],
   "source": [
    "list(X_test)"
   ]
  },
  {
   "cell_type": "code",
   "execution_count": 226,
   "metadata": {
    "collapsed": false
   },
   "outputs": [
    {
     "data": {
      "text/plain": [
       "['*special',\n",
       " '2-sat',\n",
       " 'attempts_range',\n",
       " 'binary search',\n",
       " 'bitmasks',\n",
       " 'brute force',\n",
       " 'chinese remainder theorem',\n",
       " 'combinatorics',\n",
       " 'constructive algorithms',\n",
       " 'data structures',\n",
       " 'dfs and similar',\n",
       " 'divide and conquer',\n",
       " 'dp',\n",
       " 'dsu',\n",
       " 'expression parsing',\n",
       " 'fft',\n",
       " 'flows',\n",
       " 'games',\n",
       " 'geometry',\n",
       " 'graph matchings',\n",
       " 'graphs',\n",
       " 'greedy',\n",
       " 'hashing',\n",
       " 'implementation',\n",
       " 'math',\n",
       " 'matrices',\n",
       " 'meet-in-the-middle',\n",
       " 'number theory',\n",
       " 'probabilities',\n",
       " 'problem_id',\n",
       " 'schedules',\n",
       " 'shortest paths',\n",
       " 'sortings',\n",
       " 'string suffix structures',\n",
       " 'strings',\n",
       " 'tags',\n",
       " 'ternary search',\n",
       " 'trees',\n",
       " 'two pointers',\n",
       " 'user_id',\n",
       " 'submission_count',\n",
       " 'problem_solved',\n",
       " 'contribution',\n",
       " 'country',\n",
       " 'follower_count',\n",
       " 'last_online_time_seconds',\n",
       " 'max_rating',\n",
       " 'rating',\n",
       " 'rank',\n",
       " 'registration_time_seconds',\n",
       " 'points',\n",
       " 'growth',\n",
       " 'brilliant',\n",
       " 'contribution_frequency',\n",
       " 'contribution_per_submission',\n",
       " 'follower_frequency',\n",
       " 'sol_accuracy',\n",
       " 'solver_frequency',\n",
       " 'ratio']"
      ]
     },
     "execution_count": 226,
     "metadata": {},
     "output_type": "execute_result"
    }
   ],
   "source": [
    "list(submission_train_data)"
   ]
  },
  {
   "cell_type": "code",
   "execution_count": 224,
   "metadata": {
    "collapsed": false
   },
   "outputs": [
    {
     "data": {
      "text/plain": [
       "(155295, 59)"
      ]
     },
     "execution_count": 224,
     "metadata": {},
     "output_type": "execute_result"
    }
   ],
   "source": [
    "submission_train_data.shape"
   ]
  },
  {
   "cell_type": "code",
   "execution_count": 229,
   "metadata": {
    "collapsed": true
   },
   "outputs": [],
   "source": [
    "submit_data['ID']=test_data['ID']"
   ]
  },
  {
   "cell_type": "code",
   "execution_count": 158,
   "metadata": {
    "collapsed": false
   },
   "outputs": [
    {
     "data": {
      "text/plain": [
       "0         user_856_prob_5822\n",
       "1        user_2642_prob_2334\n",
       "2        user_2557_prob_2920\n",
       "3        user_1572_prob_4598\n",
       "4         user_295_prob_6139\n",
       "5        user_1202_prob_6253\n",
       "6        user_1017_prob_2630\n",
       "7        user_2907_prob_6360\n",
       "8        user_3473_prob_4350\n",
       "9         user_401_prob_1966\n",
       "10         user_689_prob_791\n",
       "11        user_285_prob_5518\n",
       "12        user_367_prob_4425\n",
       "13       user_1580_prob_1728\n",
       "14       user_1562_prob_6500\n",
       "15       user_2464_prob_2429\n",
       "16       user_3519_prob_4971\n",
       "17       user_1620_prob_2998\n",
       "18       user_1207_prob_3335\n",
       "19        user_792_prob_6173\n",
       "20         user_3380_prob_51\n",
       "21       user_1160_prob_5804\n",
       "22       user_2860_prob_5661\n",
       "23       user_1086_prob_4967\n",
       "24       user_1356_prob_3508\n",
       "25        user_344_prob_5186\n",
       "26        user_3166_prob_574\n",
       "27        user_1559_prob_767\n",
       "28         user_56_prob_2872\n",
       "29       user_1691_prob_5781\n",
       "                ...         \n",
       "66525    user_2183_prob_4979\n",
       "66526    user_1279_prob_3204\n",
       "66527    user_1959_prob_5555\n",
       "66528     user_362_prob_3413\n",
       "66529    user_1377_prob_6368\n",
       "66530     user_913_prob_6321\n",
       "66531    user_2944_prob_3647\n",
       "66532     user_1756_prob_612\n",
       "66533    user_3005_prob_1431\n",
       "66534    user_2602_prob_4672\n",
       "66535     user_394_prob_6304\n",
       "66536     user_519_prob_4125\n",
       "66537    user_3033_prob_4425\n",
       "66538     user_764_prob_1534\n",
       "66539       user_196_prob_32\n",
       "66540     user_238_prob_2754\n",
       "66541     user_926_prob_5642\n",
       "66542    user_2032_prob_4060\n",
       "66543    user_2008_prob_3935\n",
       "66544     user_705_prob_5206\n",
       "66545    user_1974_prob_3847\n",
       "66546    user_2650_prob_2461\n",
       "66547    user_3549_prob_2494\n",
       "66548    user_1090_prob_4132\n",
       "66549     user_315_prob_5406\n",
       "66550    user_1551_prob_2949\n",
       "66551    user_2617_prob_6266\n",
       "66552     user_799_prob_1800\n",
       "66553     user_1265_prob_137\n",
       "66554     user_474_prob_6497\n",
       "Name: ID, Length: 66555, dtype: object"
      ]
     },
     "execution_count": 158,
     "metadata": {},
     "output_type": "execute_result"
    }
   ],
   "source": [
    "submit_data['ID']"
   ]
  },
  {
   "cell_type": "code",
   "execution_count": 159,
   "metadata": {
    "collapsed": true
   },
   "outputs": [],
   "source": [
    "# Train and submit the model"
   ]
  },
  {
   "cell_type": "code",
   "execution_count": 160,
   "metadata": {
    "collapsed": true
   },
   "outputs": [],
   "source": [
    "submission_data=submission_train_data.drop(['user_id','problem_id','attempts_range'],1)\n",
    "submission_data=submission_data.drop(['tags','country'],1)\n",
    "dtrain = xgb.DMatrix(data=submission_data, label=y_train)"
   ]
  },
  {
   "cell_type": "code",
   "execution_count": 230,
   "metadata": {
    "collapsed": false
   },
   "outputs": [],
   "source": [
    "X_test=X_test.drop(['tags','country','user_id','problem_id'],1)"
   ]
  },
  {
   "cell_type": "code",
   "execution_count": 231,
   "metadata": {
    "collapsed": true
   },
   "outputs": [],
   "source": [
    "X_test_f=X_test"
   ]
  },
  {
   "cell_type": "code",
   "execution_count": null,
   "metadata": {
    "collapsed": true
   },
   "outputs": [],
   "source": []
  },
  {
   "cell_type": "code",
   "execution_count": 194,
   "metadata": {
    "collapsed": false
   },
   "outputs": [],
   "source": [
    "model=xgb.train(params,dtrain)"
   ]
  },
  {
   "cell_type": "code",
   "execution_count": 235,
   "metadata": {
    "collapsed": false
   },
   "outputs": [],
   "source": [
    "X_test=xgb.DMatrix(X_test)"
   ]
  },
  {
   "cell_type": "code",
   "execution_count": 232,
   "metadata": {
    "collapsed": false
   },
   "outputs": [],
   "source": [
    "X_te(X_test)"
   ]
  },
  {
   "cell_type": "code",
   "execution_count": 236,
   "metadata": {
    "collapsed": false
   },
   "outputs": [],
   "source": [
    "submit_data['attempts_range']=model.predict(X_test)"
   ]
  },
  {
   "cell_type": "code",
   "execution_count": 242,
   "metadata": {
    "collapsed": true
   },
   "outputs": [],
   "source": [
    "submit_data.to_csv('first_submit.csv')"
   ]
  },
  {
   "cell_type": "code",
   "execution_count": 240,
   "metadata": {
    "collapsed": false
   },
   "outputs": [
    {
     "data": {
      "text/html": [
       "<div>\n",
       "<style>\n",
       "    .dataframe thead tr:only-child th {\n",
       "        text-align: right;\n",
       "    }\n",
       "\n",
       "    .dataframe thead th {\n",
       "        text-align: left;\n",
       "    }\n",
       "\n",
       "    .dataframe tbody tr th {\n",
       "        vertical-align: top;\n",
       "    }\n",
       "</style>\n",
       "<table border=\"1\" class=\"dataframe\">\n",
       "  <thead>\n",
       "    <tr style=\"text-align: right;\">\n",
       "      <th></th>\n",
       "      <th>ID</th>\n",
       "      <th>attempts_range</th>\n",
       "    </tr>\n",
       "  </thead>\n",
       "  <tbody>\n",
       "  </tbody>\n",
       "</table>\n",
       "</div>"
      ],
      "text/plain": [
       "Empty DataFrame\n",
       "Columns: [ID, attempts_range]\n",
       "Index: []"
      ]
     },
     "execution_count": 240,
     "metadata": {},
     "output_type": "execute_result"
    }
   ],
   "source": [
    "submit_data[submit_data['attempts_range']==3]"
   ]
  },
  {
   "cell_type": "code",
   "execution_count": 241,
   "metadata": {
    "collapsed": false
   },
   "outputs": [
    {
     "data": {
      "text/plain": [
       "1         3\n",
       "27        4\n",
       "33        3\n",
       "37        3\n",
       "41        4\n",
       "53        3\n",
       "59        3\n",
       "63        3\n",
       "72        3\n",
       "93        3\n",
       "94        3\n",
       "95        3\n",
       "96        5\n",
       "98        4\n",
       "101       3\n",
       "111       4\n",
       "117       3\n",
       "126       6\n",
       "129       3\n",
       "135       4\n",
       "154       3\n",
       "166       4\n",
       "169       4\n",
       "170       6\n",
       "181       3\n",
       "183       4\n",
       "185       5\n",
       "199       6\n",
       "200       4\n",
       "214       3\n",
       "         ..\n",
       "155057    3\n",
       "155059    6\n",
       "155063    4\n",
       "155078    3\n",
       "155080    6\n",
       "155096    4\n",
       "155105    6\n",
       "155113    3\n",
       "155117    3\n",
       "155125    6\n",
       "155142    5\n",
       "155150    3\n",
       "155151    3\n",
       "155153    3\n",
       "155156    4\n",
       "155166    3\n",
       "155168    3\n",
       "155173    3\n",
       "155183    3\n",
       "155184    3\n",
       "155190    4\n",
       "155195    3\n",
       "155202    3\n",
       "155213    6\n",
       "155219    3\n",
       "155223    6\n",
       "155248    6\n",
       "155271    4\n",
       "155276    3\n",
       "155291    6\n",
       "Name: attempts_range, Length: 25171, dtype: int64"
      ]
     },
     "execution_count": 241,
     "metadata": {},
     "output_type": "execute_result"
    }
   ],
   "source": [
    "y_train[y_train>=3]"
   ]
  },
  {
   "cell_type": "code",
   "execution_count": null,
   "metadata": {
    "collapsed": true
   },
   "outputs": [],
   "source": []
  }
 ],
 "metadata": {
  "kernelspec": {
   "display_name": "Python 2",
   "language": "python",
   "name": "python2"
  },
  "language_info": {
   "codemirror_mode": {
    "name": "ipython",
    "version": 2
   },
   "file_extension": ".py",
   "mimetype": "text/x-python",
   "name": "python",
   "nbconvert_exporter": "python",
   "pygments_lexer": "ipython2",
   "version": "2.7.13"
  }
 },
 "nbformat": 4,
 "nbformat_minor": 2
}
